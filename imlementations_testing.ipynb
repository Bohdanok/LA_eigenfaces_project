{
  "cells": [
    {
      "cell_type": "markdown",
      "metadata": {},
      "source": [
        "# Implementation testing\n",
        "### Comparison of our optimized model,<br>our regular model, model which uses PCA from sklearn and LBPH model"
      ]
    },
    {
      "cell_type": "code",
      "execution_count": 1,
      "metadata": {
        "collapsed": false
      },
      "outputs": [],
      "source": [
        "import numpy as np\n",
        "\n",
        "from time import time\n",
        "\n",
        "from sklearn.model_selection import train_test_split\n",
        "from eigenfaces_model_optimised import EigenfacesModel as EigenfacesModelOptimized\n",
        "from eigenfaces_model import EigenfacesModel\n",
        "from eigenfaces_model_other import EigenfacesModel as EigenfacesModelOther"
      ]
    },
    {
      "cell_type": "code",
      "execution_count": 2,
      "metadata": {
        "collapsed": false
      },
      "outputs": [],
      "source": [
        "FACES_PATH, FACES_TARGET_PATH = \"pics/archive(1)/olivetti_faces.npy\", \"pics/archive(1)/olivetti_faces_target.npy\"\n",
        "\n",
        "faces = np.load(FACES_PATH)\n",
        "\n",
        "faces_target = np.load(FACES_TARGET_PATH)\n",
        "\n",
        "\n",
        "X = faces\n",
        "\n",
        "y = faces_target\n",
        "\n",
        "target_names = np.array(list({str(target) for target in y}))\n",
        "n_classes = target_names.shape[0]"
      ]
    },
    {
      "cell_type": "markdown",
      "metadata": {},
      "source": [
        "Split into a training set and a test and keep 20% of the data for testing.\n",
        "\n"
      ]
    },
    {
      "cell_type": "code",
      "execution_count": 3,
      "metadata": {},
      "outputs": [],
      "source": [
        "def split_data(faces, faces_target, test_percentage, non_trained_person_count = 0):\n",
        "    faces_dict = {}\n",
        "    for i, img in zip(faces_target, faces):\n",
        "        faces_dict[i] = faces_dict.get(i, []) + [img]\n",
        "    \n",
        "\n",
        "    faces_train = []\n",
        "    faces_train_target = []\n",
        "    faces_test = []\n",
        "    faces_test_target = []\n",
        "\n",
        "    labels_faces = list(faces_dict.items())\n",
        "    for i in range(non_trained_person_count):\n",
        "        faces_test.extend(labels_faces[i][1])\n",
        "        faces_test_target.extend([-1] * len(labels_faces[i][1]))\n",
        "        del faces_dict[i]\n",
        "    print(faces_dict.keys())\n",
        "\n",
        "    for person_id, person_faces in faces_dict.items():\n",
        "        TEST_FACES_COUNT = int(len(person_faces) * test_percentage)\n",
        "        TRAIN_FACES_COUNT = len(person_faces) - TEST_FACES_COUNT\n",
        "        faces_test.extend(person_faces[:TEST_FACES_COUNT])\n",
        "        faces_test_target.extend([person_id] * TEST_FACES_COUNT)\n",
        "        faces_train.extend(person_faces[TEST_FACES_COUNT:])\n",
        "        faces_train_target.extend([person_id] * TRAIN_FACES_COUNT)\n",
        "\n",
        "    return np.array(faces_train), np.array(faces_train_target), np.array(faces_test), np.array(faces_test_target)"
      ]
    },
    {
      "cell_type": "code",
      "execution_count": 4,
      "metadata": {
        "collapsed": false
      },
      "outputs": [],
      "source": [
        "X_train, X_test, y_train, y_test = train_test_split(\n",
        "    X, y, test_size=0.25, random_state=43\n",
        ")\n",
        "\n"
      ]
    },
    {
      "cell_type": "markdown",
      "metadata": {},
      "source": [
        "### Model using scipy PCA implementation"
      ]
    },
    {
      "cell_type": "code",
      "execution_count": 5,
      "metadata": {},
      "outputs": [
        {
          "name": "stdout",
          "output_type": "stream",
          "text": [
            "accuracy: 0.91, precision: 0.97, recall: 0.94, f1: 0.95\n"
          ]
        }
      ],
      "source": [
        "time_started = time()\n",
        "model2 = EigenfacesModelOther()\n",
        "model2.train(X_train, y_train, 0.95)\n",
        "time_taken_scipy = round(time() - time_started, 2)\n",
        "testing_metrics_scipy = model2.test(X_test, y_test)\n",
        "print(\"accuracy: {}, precision: {}, recall: {}, f1: {}\".format(*testing_metrics_scipy))"
      ]
    },
    {
      "cell_type": "markdown",
      "metadata": {},
      "source": [
        "### Model which uses optimization for faster computation"
      ]
    },
    {
      "cell_type": "code",
      "execution_count": 6,
      "metadata": {},
      "outputs": [
        {
          "name": "stdout",
          "output_type": "stream",
          "text": [
            "accuracy: 0.81, precision: 0.89, recall: 0.9, f1: 0.9\n"
          ]
        }
      ],
      "source": [
        "time_started = time()\n",
        "model_optimized = EigenfacesModelOptimized()\n",
        "\n",
        "model_optimized.train(X_train, y_train, 0.95)\n",
        "time_taken_optimized = round(time() - time_started, 2)\n",
        "testing_metrics_optimized = model_optimized.test(X_test, y_test)\n",
        "print(\"accuracy: {}, precision: {}, recall: {}, f1: {}\".format(*testing_metrics_optimized))"
      ]
    },
    {
      "cell_type": "markdown",
      "metadata": {},
      "source": [
        "### Our non-optimized model"
      ]
    },
    {
      "cell_type": "code",
      "execution_count": 7,
      "metadata": {},
      "outputs": [
        {
          "name": "stdout",
          "output_type": "stream",
          "text": [
            "accuracy: 0.81, precision: 0.98, recall: 0.83, f1: 0.9\n"
          ]
        }
      ],
      "source": [
        "time_started = time()\n",
        "model = EigenfacesModel()\n",
        "\n",
        "model.train(X_train, y_train, 0.95)\n",
        "time_taken_regular = round(time() - time_started, 2)\n",
        "testing_metrics_regular = model.test(X_test, y_test)\n",
        "print(\"accuracy: {}, precision: {}, recall: {}, f1: {}\".format(*testing_metrics_regular))"
      ]
    },
    {
      "cell_type": "markdown",
      "metadata": {},
      "source": [
        "### LBPH"
      ]
    },
    {
      "cell_type": "code",
      "execution_count": 8,
      "metadata": {},
      "outputs": [],
      "source": [
        "from cv2.face import LBPHFaceRecognizer_create\n",
        "\n",
        "time_started = time()\n",
        "recognizer = LBPHFaceRecognizer_create()\n",
        "\n",
        "recognizer.train(X_train, y_train)\n",
        "time_taken_lbph = round(time() - time_started, 2)"
      ]
    },
    {
      "cell_type": "code",
      "execution_count": 9,
      "metadata": {},
      "outputs": [],
      "source": [
        "def test(recognizer, faces_test, face_test_labels):\n",
        "    testing_results = {\"False\": {\"positive\": 0, \"negative\": 0}, \"True\": {\"positive\": 0, \"negative\": 0}}\n",
        "    min_confidence = float(\"inf\")\n",
        "    for label, face in zip(face_test_labels, faces_test):\n",
        "        pred, confidence = recognizer.predict(face)\n",
        "        pred = (-1 if confidence > 120 else pred)\n",
        "        min_confidence = min(confidence, min_confidence)\n",
        "        # print(label, pred, confidence)\n",
        "        true_prediction = label == pred\n",
        "        face_in_dataset = pred != -1\n",
        "        if face_in_dataset:\n",
        "            testing_results[str(true_prediction)][\"positive\"] += 1\n",
        "        else:\n",
        "            testing_results[str(true_prediction)][\"negative\"] += 1\n",
        "    # print(testing_results, min_confidence)\n",
        "    total_correct = testing_results[\"True\"][\"positive\"] + testing_results[\"True\"][\"negative\"]\n",
        "    total_incorrect = testing_results[\"False\"][\"positive\"] + testing_results[\"False\"][\"negative\"]\n",
        "    accuracy = total_correct / (total_correct + total_incorrect)\n",
        "    precision = testing_results[\"True\"][\"positive\"] / (testing_results[\"True\"][\"positive\"] + testing_results[\"False\"][\"positive\"])\n",
        "    recall = testing_results[\"True\"][\"positive\"] / (testing_results[\"True\"][\"positive\"] + testing_results[\"False\"][\"negative\"])\n",
        "    f1_score = 2 * precision * recall / (precision + recall)\n",
        "    metrics = accuracy, precision, recall, f1_score\n",
        "    return [round(metric, 2) for metric in metrics]"
      ]
    },
    {
      "cell_type": "code",
      "execution_count": 10,
      "metadata": {},
      "outputs": [
        {
          "name": "stdout",
          "output_type": "stream",
          "text": [
            "accuracy: 0.96, precision: 0.96, recall: 1.0, f1: 0.98\n"
          ]
        }
      ],
      "source": [
        "testing_metrics_lbph = test(recognizer, X_test, y_test)\n",
        "print(\"accuracy: {}, precision: {}, recall: {}, f1: {}\".format(*testing_metrics_lbph))\n"
      ]
    },
    {
      "cell_type": "markdown",
      "metadata": {},
      "source": [
        "### Testing Results"
      ]
    },
    {
      "cell_type": "code",
      "execution_count": 11,
      "metadata": {},
      "outputs": [
        {
          "data": {
            "image/png": "[encoded data removed]",
            "text/plain": [
              "<Figure size 640x480 with 1 Axes>"
            ]
          },
          "metadata": {},
          "output_type": "display_data"
        },
        {
          "data": {
            "image/png": "[encoded data removed]",
            "text/plain": [
              "<Figure size 640x480 with 1 Axes>"
            ]
          },
          "metadata": {},
          "output_type": "display_data"
        }
      ],
      "source": [
        "import matplotlib.pyplot as plt\n",
        "import numpy as np\n",
        "\n",
        "n = np.array([\"accuracy\", \"precision\", \"recall\", \"f1\"])\n",
        "\n",
        "width = 0.35\n",
        "indices = np.arange(len(n))\n",
        "\n",
        "algorithm_metrics = [testing_metrics_regular, testing_metrics_optimized, testing_metrics_scipy, testing_metrics_lbph]\n",
        "algorithm_metrics = [[metric * 100 for metric in metrics] for metrics in algorithm_metrics]\n",
        "labels = ['Our regular', 'Our optimized',\"With Scipy's PCA\", 'LBPH']\n",
        "num_algos = len(algorithm_metrics)\n",
        "width = 0.8 / num_algos\n",
        "\n",
        "indices = np.arange(len(n))\n",
        "\n",
        "for i, metrics in enumerate(algorithm_metrics):\n",
        "    plt.bar(indices + (i - num_algos/2) * width + width/2, metrics, width=width, label=labels[i])\n",
        "\n",
        "plt.title(\"Metrics comparison\")\n",
        "\n",
        "plt.xticks(indices, n)\n",
        "plt.ylabel('%')\n",
        "plt.xlabel(\"metric\")\n",
        "plt.ylim(bottom= max(min(min(metrics) for metrics in algorithm_metrics) - 10, 0), top=100)\n",
        "# plt.legend()\n",
        "plt.legend(loc='lower right', framealpha=0.9)\n",
        "plt.show()\n",
        "# plt.bar([1, 2, 3], [12, 23, 34], label=[\"1\", \"23\", \"12\"])\n",
        "times = [time_taken_regular, time_taken_optimized, time_taken_scipy, time_taken_lbph]\n",
        "\n",
        "# labels = ['A', 'B', 'C', 'D']\n",
        "\n",
        "indices = np.arange(len(times))\n",
        "\n",
        "for i, time in enumerate(times):\n",
        "    plt.bar(indices[i], [time])\n",
        "plt.xticks(indices, labels)\n",
        "\n",
        "# for i, v in enumerate(times):\n",
        "#     plt.text(i, v + 0.1, f\"{v:.2f}\", ha='center')\n",
        "\n",
        "plt.title(\"Time training\")\n",
        "plt.xlabel('Implementation')\n",
        "plt.ylabel('Time')\n",
        "plt.tight_layout()\n",
        "plt.show()\n"
      ]
    },
    {
      "cell_type": "markdown",
      "metadata": {},
      "source": [
        "## Testing with people not from dataset"
      ]
    },
    {
      "cell_type": "code",
      "execution_count": 12,
      "metadata": {},
      "outputs": [
        {
          "name": "stdout",
          "output_type": "stream",
          "text": [
            "dict_keys([10, 11, 12, 13, 14, 15, 16, 17, 18, 19, 20, 21, 22, 23, 24, 25, 26, 27, 28, 29, 30, 31, 32, 33, 34, 35, 36, 37, 38, 39])\n"
          ]
        }
      ],
      "source": [
        "X_train, y_train, X_test, y_test = split_data(X, y, 0.2, 10)"
      ]
    },
    {
      "cell_type": "markdown",
      "metadata": {},
      "source": [
        "### Model using scipy PCA implementation"
      ]
    },
    {
      "cell_type": "code",
      "execution_count": 13,
      "metadata": {},
      "outputs": [
        {
          "name": "stdout",
          "output_type": "stream",
          "text": [
            "accuracy: 0.79, precision: 0.63, recall: 0.98, f1: 0.77\n"
          ]
        }
      ],
      "source": [
        "model2 = EigenfacesModelOther()\n",
        "model2.train(X_train, y_train, 0.95)\n",
        "testing_metrics_scipy = model2.test(X_test, y_test)\n",
        "print(\"accuracy: {}, precision: {}, recall: {}, f1: {}\".format(*testing_metrics_scipy))"
      ]
    },
    {
      "cell_type": "markdown",
      "metadata": {},
      "source": [
        "### Model which uses optimization for faster computation"
      ]
    },
    {
      "cell_type": "code",
      "execution_count": 14,
      "metadata": {},
      "outputs": [
        {
          "name": "stdout",
          "output_type": "stream",
          "text": [
            "accuracy: 0.79, precision: 0.65, recall: 0.89, f1: 0.75\n"
          ]
        }
      ],
      "source": [
        "model_optimized = EigenfacesModelOptimized()\n",
        "\n",
        "model_optimized.train(X_train, y_train, 0.95)\n",
        "testing_metrics_optimized = model_optimized.test(X_test, y_test)\n",
        "print(\"accuracy: {}, precision: {}, recall: {}, f1: {}\".format(*testing_metrics_optimized))"
      ]
    },
    {
      "cell_type": "markdown",
      "metadata": {},
      "source": [
        "### Our non-optimized model"
      ]
    },
    {
      "cell_type": "code",
      "execution_count": 15,
      "metadata": {},
      "outputs": [
        {
          "name": "stdout",
          "output_type": "stream",
          "text": [
            "accuracy: 0.89, precision: 0.86, recall: 0.83, f1: 0.84\n"
          ]
        }
      ],
      "source": [
        "model = EigenfacesModel()\n",
        "\n",
        "model.train(X_train, y_train, 0.95)\n",
        "testing_metrics_regular = model.test(X_test, y_test)\n",
        "print(\"accuracy: {}, precision: {}, recall: {}, f1: {}\".format(*testing_metrics_regular))"
      ]
    },
    {
      "cell_type": "markdown",
      "metadata": {},
      "source": [
        "### Testing results"
      ]
    },
    {
      "cell_type": "code",
      "execution_count": 16,
      "metadata": {},
      "outputs": [
        {
          "data": {
            "image/png": "[encoded data removed]",
            "text/plain": [
              "<Figure size 640x480 with 1 Axes>"
            ]
          },
          "metadata": {},
          "output_type": "display_data"
        }
      ],
      "source": [
        "import matplotlib.pyplot as plt\n",
        "import numpy as np\n",
        "\n",
        "n = np.array([\"accuracy\", \"precision\", \"recall\", \"f1\"])\n",
        "\n",
        "width = 0.35\n",
        "indices = np.arange(len(n))\n",
        "\n",
        "algorithm_metrics = [testing_metrics_regular, testing_metrics_optimized, testing_metrics_scipy]\n",
        "algorithm_metrics = [[metric * 100 for metric in metrics] for metrics in algorithm_metrics]\n",
        "labels = ['Our regular', 'Our optimized',\"With Scipy's PCA\"]\n",
        "num_algos = len(algorithm_metrics)\n",
        "width = 0.8 / num_algos\n",
        "\n",
        "indices = np.arange(len(n))\n",
        "\n",
        "for i, metrics in enumerate(algorithm_metrics):\n",
        "    plt.bar(indices + (i - num_algos/2) * width + width/2, metrics, width=width, label=labels[i])\n",
        "\n",
        "plt.title(\"Metrics comparison(100 photos outside from dataset)\")\n",
        "\n",
        "plt.xticks(indices, n)\n",
        "plt.ylabel('%')\n",
        "plt.xlabel(\"metric\")\n",
        "plt.ylim(bottom= max(min(min(metrics) for metrics in algorithm_metrics) - 10, 0))\n",
        "# plt.legend()\n",
        "plt.legend(loc='lower right', framealpha=0.9)\n",
        "plt.show()\n"
      ]
    }
  ],
  "metadata": {
    "kernelspec": {
      "display_name": "Python 3",
      "language": "python",
      "name": "python3"
    },
    "language_info": {
      "codemirror_mode": {
        "name": "ipython",
        "version": 3
      },
      "file_extension": ".py",
      "mimetype": "text/x-python",
      "name": "python",
      "nbconvert_exporter": "python",
      "pygments_lexer": "ipython3",
      "version": "3.11.6"
    }
  },
  "nbformat": 4,
  "nbformat_minor": 0
}
