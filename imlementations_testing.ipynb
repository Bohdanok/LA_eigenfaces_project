{
 "cells": [
  {
   "cell_type": "markdown",
   "metadata": {},
   "source": [
    "# Implementation testing\n",
    "### Comparison of our optimized model,<br>our regular model, model which uses PCA from sklearn and LBPH model"
   ]
  },
  {
   "cell_type": "code",
   "execution_count": 124,
   "metadata": {
    "collapsed": false
   },
   "outputs": [],
   "source": [
    "import numpy as np\n",
    "\n",
    "from time import time\n",
    "import random\n",
    "import os\n",
    "\n",
    "from sklearn.model_selection import train_test_split\n",
    "from eigenfaces_model_optimised import EigenfacesModel as EigenfacesModelOptimized\n",
    "from eigenfaces_model import EigenfacesModel\n",
    "from eigenfaces_model_other import EigenfacesModel as EigenfacesModelOther\n",
    "import tensorflow as tf\n",
    "from sklearn.metrics import accuracy_score, precision_score, recall_score, f1_score\n",
    "\n",
    "\n"
   ]
  },
  {
   "cell_type": "code",
   "execution_count": 144,
   "metadata": {
    "collapsed": false
   },
   "outputs": [],
   "source": [
    "FACES_PATH, FACES_TARGET_PATH = \"pics/archive(1)/olivetti_faces.npy\", \"pics/archive(1)/olivetti_faces_target.npy\"\n",
    "\n",
    "faces = np.load(FACES_PATH)\n",
    "\n",
    "faces_target = np.load(FACES_TARGET_PATH)\n",
    "\n",
    "\n",
    "X = faces\n",
    "\n",
    "y = faces_target\n",
    "\n",
    "target_names = np.array(list({str(target) for target in y}))\n",
    "n_classes = target_names.shape[0]\n",
    "\n"
   ]
  },
  {
   "cell_type": "markdown",
   "metadata": {},
   "source": [
    "Split into a training set and a test and keep 20% of the data for testing.\n",
    "\n"
   ]
  },
  {
   "cell_type": "code",
   "execution_count": 126,
   "metadata": {},
   "outputs": [],
   "source": [
    "def split_data(faces, faces_target, test_percentage, non_trained_person_count = 0):\n",
    "    faces_dict = {}\n",
    "    for i, img in zip(faces_target, faces):\n",
    "        faces_dict[i] = faces_dict.get(i, []) + [img]\n",
    "    \n",
    "\n",
    "    faces_train = []\n",
    "    faces_train_target = []\n",
    "    faces_test = []\n",
    "    faces_test_target = []\n",
    "\n",
    "    labels_faces = list(faces_dict.items())\n",
    "    for i in range(non_trained_person_count):\n",
    "        faces_test.extend(labels_faces[i][1])\n",
    "        faces_test_target.extend([-1] * len(labels_faces[i][1]))\n",
    "        del faces_dict[i]\n",
    "    print(faces_dict.keys())\n",
    "\n",
    "    for person_id, person_faces in faces_dict.items():\n",
    "        TEST_FACES_COUNT = int(len(person_faces) * test_percentage)\n",
    "        TRAIN_FACES_COUNT = len(person_faces) - TEST_FACES_COUNT\n",
    "        faces_test.extend(person_faces[:TEST_FACES_COUNT])\n",
    "        faces_test_target.extend([person_id] * TEST_FACES_COUNT)\n",
    "        faces_train.extend(person_faces[TEST_FACES_COUNT:])\n",
    "        faces_train_target.extend([person_id] * TRAIN_FACES_COUNT)\n",
    "\n",
    "    return np.array(faces_train), np.array(faces_train_target), np.array(faces_test), np.array(faces_test_target)"
   ]
  },
  {
   "cell_type": "code",
   "execution_count": 145,
   "metadata": {
    "collapsed": false
   },
   "outputs": [],
   "source": [
    "X_train, X_test, y_train, y_test = train_test_split(\n",
    "    X, y, test_size=0.25, random_state=43\n",
    ")\n",
    "\n"
   ]
  },
  {
   "cell_type": "markdown",
   "metadata": {},
   "source": [
    "### Model using scipy PCA implementation"
   ]
  },
  {
   "cell_type": "code",
   "execution_count": 128,
   "metadata": {},
   "outputs": [
    {
     "name": "stdout",
     "output_type": "stream",
     "text": [
      "accuracy: 0.91, precision: 0.97, recall: 0.94, f1: 0.95\n"
     ]
    }
   ],
   "source": [
    "time_started = time()\n",
    "model2 = EigenfacesModelOther()\n",
    "model2.train(X_train, y_train, 0.95)\n",
    "time_taken_scipy = round(time() - time_started, 2)\n",
    "testing_metrics_scipy = model2.test(X_test, y_test)\n",
    "print(\"accuracy: {}, precision: {}, recall: {}, f1: {}\".format(*testing_metrics_scipy))"
   ]
  },
  {
   "cell_type": "markdown",
   "metadata": {},
   "source": [
    "### Model which uses optimization for faster computation"
   ]
  },
  {
   "cell_type": "code",
   "execution_count": 129,
   "metadata": {},
   "outputs": [
    {
     "name": "stdout",
     "output_type": "stream",
     "text": [
      "accuracy: 0.81, precision: 0.89, recall: 0.9, f1: 0.9\n"
     ]
    }
   ],
   "source": [
    "time_started = time()\n",
    "model_optimized = EigenfacesModelOptimized()\n",
    "\n",
    "model_optimized.train(X_train, y_train, 0.95)\n",
    "time_taken_optimized = round(time() - time_started, 2)\n",
    "testing_metrics_optimized = model_optimized.test(X_test, y_test)\n",
    "print(\"accuracy: {}, precision: {}, recall: {}, f1: {}\".format(*testing_metrics_optimized))"
   ]
  },
  {
   "cell_type": "markdown",
   "metadata": {},
   "source": [
    "### Our non-optimized model"
   ]
  },
  {
   "cell_type": "code",
   "execution_count": 130,
   "metadata": {},
   "outputs": [
    {
     "name": "stdout",
     "output_type": "stream",
     "text": [
      "accuracy: 0.84, precision: 0.94, recall: 0.88, f1: 0.91\n"
     ]
    }
   ],
   "source": [
    "time_started = time()\n",
    "model = EigenfacesModel()\n",
    "\n",
    "model.train(X_train, y_train, 0.95)\n",
    "time_taken_regular = round(time() - time_started, 2)\n",
    "testing_metrics_regular = model.test(X_test, y_test)\n",
    "print(\"accuracy: {}, precision: {}, recall: {}, f1: {}\".format(*testing_metrics_regular))"
   ]
  },
  {
   "cell_type": "markdown",
   "metadata": {},
   "source": [
    "### LBPH"
   ]
  },
  {
   "cell_type": "code",
   "execution_count": 131,
   "metadata": {},
   "outputs": [],
   "source": [
    "from cv2.face import LBPHFaceRecognizer_create\n",
    "\n",
    "time_started = time()\n",
    "recognizer = LBPHFaceRecognizer_create()\n",
    "\n",
    "recognizer.train(X_train, y_train)\n",
    "time_taken_lbph = round(time() - time_started, 2)"
   ]
  },
  {
   "cell_type": "code",
   "execution_count": 132,
   "metadata": {},
   "outputs": [],
   "source": [
    "def test(recognizer, faces_test, face_test_labels):\n",
    "    testing_results = {\"False\": {\"positive\": 0, \"negative\": 0}, \"True\": {\"positive\": 0, \"negative\": 0}}\n",
    "    min_confidence = float(\"inf\")\n",
    "    for label, face in zip(face_test_labels, faces_test):\n",
    "        pred, confidence = recognizer.predict(face)\n",
    "        pred = (-1 if confidence > 120 else pred)\n",
    "        min_confidence = min(confidence, min_confidence)\n",
    "        # print(label, pred, confidence)\n",
    "        true_prediction = label == pred\n",
    "        face_in_dataset = pred != -1\n",
    "        if face_in_dataset:\n",
    "            testing_results[str(true_prediction)][\"positive\"] += 1\n",
    "        else:\n",
    "            testing_results[str(true_prediction)][\"negative\"] += 1\n",
    "    # print(testing_results, min_confidence)\n",
    "    total_correct = testing_results[\"True\"][\"positive\"] + testing_results[\"True\"][\"negative\"]\n",
    "    total_incorrect = testing_results[\"False\"][\"positive\"] + testing_results[\"False\"][\"negative\"]\n",
    "    accuracy = total_correct / (total_correct + total_incorrect)\n",
    "    precision = testing_results[\"True\"][\"positive\"] / (testing_results[\"True\"][\"positive\"] + testing_results[\"False\"][\"positive\"])\n",
    "    recall = testing_results[\"True\"][\"positive\"] / (testing_results[\"True\"][\"positive\"] + testing_results[\"False\"][\"negative\"])\n",
    "    f1_score = 2 * precision * recall / (precision + recall)\n",
    "    metrics = accuracy, precision, recall, f1_score\n",
    "    return [round(metric, 2) for metric in metrics]"
   ]
  },
  {
   "cell_type": "code",
   "execution_count": 133,
   "metadata": {},
   "outputs": [
    {
     "name": "stdout",
     "output_type": "stream",
     "text": [
      "accuracy: 0.96, precision: 0.96, recall: 1.0, f1: 0.98\n"
     ]
    }
   ],
   "source": [
    "testing_metrics_lbph = test(recognizer, X_test, y_test)\n",
    "print(\"accuracy: {}, precision: {}, recall: {}, f1: {}\".format(*testing_metrics_lbph))\n"
   ]
  },
  {
   "cell_type": "markdown",
   "metadata": {},
   "source": [
    "### Neural network"
   ]
  },
  {
   "cell_type": "code",
   "execution_count": 150,
   "metadata": {},
   "outputs": [
    {
     "name": "stdout",
     "output_type": "stream",
     "text": [
      "Epoch 1/25\n"
     ]
    },
    {
     "name": "stderr",
     "output_type": "stream",
     "text": [
      "2025-04-27 19:54:50.948832: E tensorflow/core/framework/node_def_util.cc:680] NodeDef mentions attribute use_unbounded_threadpool which is not in the op definition: Op<name=MapDataset; signature=input_dataset:variant, other_arguments: -> handle:variant; attr=f:func; attr=Targuments:list(type),min=0; attr=output_types:list(type),min=1; attr=output_shapes:list(shape),min=1; attr=use_inter_op_parallelism:bool,default=true; attr=preserve_cardinality:bool,default=false; attr=force_synchronous:bool,default=false; attr=metadata:string,default=\"\"> This may be expected if your graph generating binary is newer  than this binary. Unknown attributes will be ignored. NodeDef: {{node ParallelMapDatasetV2/_15}}\n"
     ]
    },
    {
     "name": "stdout",
     "output_type": "stream",
     "text": [
      "\u001b[1m17/17\u001b[0m \u001b[32m━━━━━━━━━━━━━━━━━━━━\u001b[0m\u001b[37m\u001b[0m \u001b[1m0s\u001b[0m 88ms/step - accuracy: 0.0635 - loss: 4.2891"
     ]
    },
    {
     "name": "stderr",
     "output_type": "stream",
     "text": [
      "2025-04-27 19:54:57.509127: E tensorflow/core/framework/node_def_util.cc:680] NodeDef mentions attribute use_unbounded_threadpool which is not in the op definition: Op<name=MapDataset; signature=input_dataset:variant, other_arguments: -> handle:variant; attr=f:func; attr=Targuments:list(type),min=0; attr=output_types:list(type),min=1; attr=output_shapes:list(shape),min=1; attr=use_inter_op_parallelism:bool,default=true; attr=preserve_cardinality:bool,default=false; attr=force_synchronous:bool,default=false; attr=metadata:string,default=\"\"> This may be expected if your graph generating binary is newer  than this binary. Unknown attributes will be ignored. NodeDef: {{node ParallelMapDatasetV2/_15}}\n"
     ]
    },
    {
     "name": "stdout",
     "output_type": "stream",
     "text": [
      "\u001b[1m17/17\u001b[0m \u001b[32m━━━━━━━━━━━━━━━━━━━━\u001b[0m\u001b[37m\u001b[0m \u001b[1m8s\u001b[0m 193ms/step - accuracy: 0.0657 - loss: 4.2612 - val_accuracy: 0.3333 - val_loss: 2.8628\n",
      "Epoch 2/25\n",
      "\u001b[1m17/17\u001b[0m \u001b[32m━━━━━━━━━━━━━━━━━━━━\u001b[0m\u001b[37m\u001b[0m \u001b[1m2s\u001b[0m 98ms/step - accuracy: 0.5413 - loss: 2.1012 - val_accuracy: 0.7333 - val_loss: 1.6509\n",
      "Epoch 3/25\n",
      "\u001b[1m17/17\u001b[0m \u001b[32m━━━━━━━━━━━━━━━━━━━━\u001b[0m\u001b[37m\u001b[0m \u001b[1m2s\u001b[0m 97ms/step - accuracy: 0.8910 - loss: 1.0904 - val_accuracy: 0.7667 - val_loss: 1.1640\n",
      "Epoch 4/25\n",
      "\u001b[1m17/17\u001b[0m \u001b[32m━━━━━━━━━━━━━━━━━━━━\u001b[0m\u001b[37m\u001b[0m \u001b[1m2s\u001b[0m 98ms/step - accuracy: 0.9626 - loss: 0.6207 - val_accuracy: 0.8667 - val_loss: 0.8579\n",
      "Epoch 5/25\n",
      "\u001b[1m17/17\u001b[0m \u001b[32m━━━━━━━━━━━━━━━━━━━━\u001b[0m\u001b[37m\u001b[0m \u001b[1m2s\u001b[0m 93ms/step - accuracy: 0.9838 - loss: 0.3884 - val_accuracy: 0.9000 - val_loss: 0.6761\n",
      "Epoch 6/25\n",
      "\u001b[1m17/17\u001b[0m \u001b[32m━━━━━━━━━━━━━━━━━━━━\u001b[0m\u001b[37m\u001b[0m \u001b[1m2s\u001b[0m 93ms/step - accuracy: 0.9973 - loss: 0.2623 - val_accuracy: 0.9667 - val_loss: 0.5491\n",
      "Epoch 7/25\n",
      "\u001b[1m17/17\u001b[0m \u001b[32m━━━━━━━━━━━━━━━━━━━━\u001b[0m\u001b[37m\u001b[0m \u001b[1m2s\u001b[0m 97ms/step - accuracy: 0.9973 - loss: 0.1894 - val_accuracy: 0.9667 - val_loss: 0.4626\n",
      "Epoch 8/25\n",
      "\u001b[1m17/17\u001b[0m \u001b[32m━━━━━━━━━━━━━━━━━━━━\u001b[0m\u001b[37m\u001b[0m \u001b[1m2s\u001b[0m 91ms/step - accuracy: 1.0000 - loss: 0.1444 - val_accuracy: 0.9667 - val_loss: 0.4025\n",
      "Epoch 9/25\n",
      "\u001b[1m17/17\u001b[0m \u001b[32m━━━━━━━━━━━━━━━━━━━━\u001b[0m\u001b[37m\u001b[0m \u001b[1m2s\u001b[0m 93ms/step - accuracy: 1.0000 - loss: 0.1142 - val_accuracy: 0.9667 - val_loss: 0.3571\n",
      "Epoch 10/25\n",
      "\u001b[1m17/17\u001b[0m \u001b[32m━━━━━━━━━━━━━━━━━━━━\u001b[0m\u001b[37m\u001b[0m \u001b[1m2s\u001b[0m 96ms/step - accuracy: 1.0000 - loss: 0.0928 - val_accuracy: 1.0000 - val_loss: 0.3222\n",
      "Epoch 11/25\n",
      "\u001b[1m17/17\u001b[0m \u001b[32m━━━━━━━━━━━━━━━━━━━━\u001b[0m\u001b[37m\u001b[0m \u001b[1m2s\u001b[0m 99ms/step - accuracy: 1.0000 - loss: 0.0771 - val_accuracy: 1.0000 - val_loss: 0.2937\n",
      "Epoch 12/25\n",
      "\u001b[1m17/17\u001b[0m \u001b[32m━━━━━━━━━━━━━━━━━━━━\u001b[0m\u001b[37m\u001b[0m \u001b[1m2s\u001b[0m 97ms/step - accuracy: 1.0000 - loss: 0.0654 - val_accuracy: 1.0000 - val_loss: 0.2714\n",
      "Epoch 13/25\n",
      "\u001b[1m17/17\u001b[0m \u001b[32m━━━━━━━━━━━━━━━━━━━━\u001b[0m\u001b[37m\u001b[0m \u001b[1m2s\u001b[0m 93ms/step - accuracy: 1.0000 - loss: 0.0563 - val_accuracy: 1.0000 - val_loss: 0.2528\n",
      "Epoch 14/25\n",
      "\u001b[1m17/17\u001b[0m \u001b[32m━━━━━━━━━━━━━━━━━━━━\u001b[0m\u001b[37m\u001b[0m \u001b[1m2s\u001b[0m 91ms/step - accuracy: 1.0000 - loss: 0.0491 - val_accuracy: 1.0000 - val_loss: 0.2375\n",
      "Epoch 15/25\n",
      "\u001b[1m17/17\u001b[0m \u001b[32m━━━━━━━━━━━━━━━━━━━━\u001b[0m\u001b[37m\u001b[0m \u001b[1m2s\u001b[0m 91ms/step - accuracy: 1.0000 - loss: 0.0433 - val_accuracy: 1.0000 - val_loss: 0.2242\n",
      "Epoch 16/25\n",
      "\u001b[1m17/17\u001b[0m \u001b[32m━━━━━━━━━━━━━━━━━━━━\u001b[0m\u001b[37m\u001b[0m \u001b[1m2s\u001b[0m 90ms/step - accuracy: 1.0000 - loss: 0.0384 - val_accuracy: 1.0000 - val_loss: 0.2128\n",
      "Epoch 17/25\n",
      "\u001b[1m17/17\u001b[0m \u001b[32m━━━━━━━━━━━━━━━━━━━━\u001b[0m\u001b[37m\u001b[0m \u001b[1m2s\u001b[0m 92ms/step - accuracy: 1.0000 - loss: 0.0344 - val_accuracy: 1.0000 - val_loss: 0.2029\n",
      "Epoch 18/25\n",
      "\u001b[1m17/17\u001b[0m \u001b[32m━━━━━━━━━━━━━━━━━━━━\u001b[0m\u001b[37m\u001b[0m \u001b[1m2s\u001b[0m 89ms/step - accuracy: 1.0000 - loss: 0.0310 - val_accuracy: 1.0000 - val_loss: 0.1938\n",
      "Epoch 19/25\n",
      "\u001b[1m17/17\u001b[0m \u001b[32m━━━━━━━━━━━━━━━━━━━━\u001b[0m\u001b[37m\u001b[0m \u001b[1m2s\u001b[0m 88ms/step - accuracy: 1.0000 - loss: 0.0281 - val_accuracy: 1.0000 - val_loss: 0.1859\n",
      "Epoch 20/25\n",
      "\u001b[1m17/17\u001b[0m \u001b[32m━━━━━━━━━━━━━━━━━━━━\u001b[0m\u001b[37m\u001b[0m \u001b[1m2s\u001b[0m 91ms/step - accuracy: 1.0000 - loss: 0.0257 - val_accuracy: 1.0000 - val_loss: 0.1788\n",
      "Epoch 21/25\n",
      "\u001b[1m17/17\u001b[0m \u001b[32m━━━━━━━━━━━━━━━━━━━━\u001b[0m\u001b[37m\u001b[0m \u001b[1m2s\u001b[0m 97ms/step - accuracy: 1.0000 - loss: 0.0235 - val_accuracy: 1.0000 - val_loss: 0.1724\n",
      "Epoch 22/25\n",
      "\u001b[1m17/17\u001b[0m \u001b[32m━━━━━━━━━━━━━━━━━━━━\u001b[0m\u001b[37m\u001b[0m \u001b[1m2s\u001b[0m 98ms/step - accuracy: 1.0000 - loss: 0.0217 - val_accuracy: 1.0000 - val_loss: 0.1666\n",
      "Epoch 23/25\n",
      "\u001b[1m17/17\u001b[0m \u001b[32m━━━━━━━━━━━━━━━━━━━━\u001b[0m\u001b[37m\u001b[0m \u001b[1m2s\u001b[0m 97ms/step - accuracy: 1.0000 - loss: 0.0200 - val_accuracy: 1.0000 - val_loss: 0.1614\n",
      "Epoch 24/25\n",
      "\u001b[1m17/17\u001b[0m \u001b[32m━━━━━━━━━━━━━━━━━━━━\u001b[0m\u001b[37m\u001b[0m \u001b[1m2s\u001b[0m 96ms/step - accuracy: 1.0000 - loss: 0.0186 - val_accuracy: 1.0000 - val_loss: 0.1567\n",
      "Epoch 25/25\n",
      "\u001b[1m17/17\u001b[0m \u001b[32m━━━━━━━━━━━━━━━━━━━━\u001b[0m\u001b[37m\u001b[0m \u001b[1m2s\u001b[0m 91ms/step - accuracy: 1.0000 - loss: 0.0173 - val_accuracy: 1.0000 - val_loss: 0.1521\n"
     ]
    },
    {
     "name": "stderr",
     "output_type": "stream",
     "text": [
      "2025-04-27 19:55:37.960566: E tensorflow/core/framework/node_def_util.cc:680] NodeDef mentions attribute use_unbounded_threadpool which is not in the op definition: Op<name=MapDataset; signature=input_dataset:variant, other_arguments: -> handle:variant; attr=f:func; attr=Targuments:list(type),min=0; attr=output_types:list(type),min=1; attr=output_shapes:list(shape),min=1; attr=use_inter_op_parallelism:bool,default=true; attr=preserve_cardinality:bool,default=false; attr=force_synchronous:bool,default=false; attr=metadata:string,default=\"\"> This may be expected if your graph generating binary is newer  than this binary. Unknown attributes will be ignored. NodeDef: {{node ParallelMapDatasetV2/_14}}\n"
     ]
    },
    {
     "name": "stdout",
     "output_type": "stream",
     "text": [
      "\u001b[1m4/4\u001b[0m \u001b[32m━━━━━━━━━━━━━━━━━━━━\u001b[0m\u001b[37m\u001b[0m \u001b[1m2s\u001b[0m 432ms/step\n",
      "accuracy: 0.95, precision: 0.95, recall: 0.96, f1: 0.94\n"
     ]
    }
   ],
   "source": [
    "import numpy as np\n",
    "import tensorflow as tf\n",
    "import cv2\n",
    "from sklearn.metrics import accuracy_score, precision_score, recall_score, f1_score\n",
    "\n",
    "SIZE = 96\n",
    "\n",
    "def resize_images(images, size=(SIZE, SIZE)):\n",
    "    resized = []\n",
    "    for img in images:\n",
    "        img_resized = cv2.resize(img, size)\n",
    "        img_resized = np.expand_dims(img_resized, axis=-1)  # Add channel dimension\n",
    "        resized.append(img_resized)\n",
    "    return np.array(resized)\n",
    "\n",
    "def build_model(input_shape, num_classes):\n",
    "    base_model = tf.keras.applications.MobileNetV2(\n",
    "        input_shape=(input_shape[0], input_shape[1], 3),\n",
    "        include_top=False,\n",
    "        weights='imagenet',\n",
    "        pooling='avg'\n",
    "    )\n",
    "\n",
    "    # Freeze the base\n",
    "    base_model.trainable = False\n",
    "\n",
    "    inputs = tf.keras.Input(shape=input_shape)\n",
    "    x = tf.keras.layers.Conv2D(3, (3, 3), padding='same')(inputs)  # Convert grayscale to 3 channels\n",
    "    x = base_model(x, training=False)\n",
    "    outputs = tf.keras.layers.Dense(num_classes, activation='softmax')(x)\n",
    "\n",
    "    model = tf.keras.Model(inputs, outputs)\n",
    "    return model\n",
    "\n",
    "def test_model(model, X_test, y_test):\n",
    "    y_pred_probs = model.predict(X_test)\n",
    "    y_pred = np.argmax(y_pred_probs, axis=1)\n",
    "    \n",
    "    accuracy = accuracy_score(y_test, y_pred)\n",
    "    precision = precision_score(y_test, y_pred, average='macro', zero_division=0)\n",
    "    recall = recall_score(y_test, y_pred, average='macro', zero_division=0)\n",
    "    f1 = f1_score(y_test, y_pred, average='macro', zero_division=0)\n",
    "\n",
    "    # print(f\"accuracy: {accuracy:.2f}, precision: {precision:.2f}, recall: {recall:.2f}, f1: {f1:.2f}\")\n",
    "    metrics = accuracy, precision, recall, f1\n",
    "    return [round(metric, 2) for metric in metrics]\n",
    "\n",
    "X_train_resized, X_test_resized = resize_images(X_train),  resize_images(X_test)\n",
    "\n",
    "model = build_model(input_shape=(SIZE, SIZE, 1), num_classes=40)\n",
    "model.compile(optimizer='adam', loss='sparse_categorical_crossentropy', metrics=['accuracy'])\n",
    "\n",
    "callback = tf.keras.callbacks.EarlyStopping(patience=5, restore_best_weights=True)\n",
    "\n",
    "model.fit(X_train_resized, y_train, epochs=25, batch_size=16, validation_split=0.1, callbacks=[callback])\n",
    "\n",
    "# test_model(model, X_test, y_test)\n",
    "testing_metrics_neural = test_model(model, X_test_resized, y_test)\n",
    "print(\"accuracy: {}, precision: {}, recall: {}, f1: {}\".format(*testing_metrics_neural))"
   ]
  },
  {
   "cell_type": "markdown",
   "metadata": {},
   "source": [
    "### Testing Results"
   ]
  },
  {
   "cell_type": "code",
   "execution_count": null,
   "metadata": {},
   "outputs": [
    {
     "data": {
      "image/png": "[encoded data removed]",
      "text/plain": [
       "<Figure size 640x480 with 1 Axes>"
      ]
     },
     "metadata": {},
     "output_type": "display_data"
    },
    {
     "data": {
      "image/png": "[encoded data removed]",
      "text/plain": [
       "<Figure size 640x480 with 1 Axes>"
      ]
     },
     "metadata": {},
     "output_type": "display_data"
    }
   ],
   "source": [
    "import matplotlib.pyplot as plt\n",
    "import numpy as np\n",
    "\n",
    "n = np.array([\"accuracy\", \"precision\", \"recall\", \"f1\"])\n",
    "\n",
    "width = 0.35\n",
    "indices = np.arange(len(n))\n",
    "\n",
    "algorithm_metrics = [testing_metrics_regular, testing_metrics_optimized, testing_metrics_scipy, testing_metrics_lbph, testing_metrics_neural]\n",
    "algorithm_metrics = [[metric * 100 for metric in metrics] for metrics in algorithm_metrics]\n",
    "labels = ['Our regular', 'Our optimized',\"With Scipy's PCA\", 'LBPH', 'MobileNetV2']\n",
    "num_algos = len(algorithm_metrics)\n",
    "width = 0.8 / num_algos\n",
    "\n",
    "indices = np.arange(len(n))\n",
    "\n",
    "for i, metrics in enumerate(algorithm_metrics):\n",
    "    plt.bar(indices + (i - num_algos/2) * width + width/2, metrics, width=width, label=labels[i])\n",
    "\n",
    "plt.title(\"Metrics comparison\")\n",
    "\n",
    "plt.xticks(indices, n)\n",
    "plt.ylabel('%')\n",
    "plt.xlabel(\"metric\")\n",
    "plt.ylim(bottom= max(min(min(metrics) for metrics in algorithm_metrics) - 10, 0), top=100)\n",
    "# plt.legend()\n",
    "plt.legend(loc='lower right', framealpha=0.9)\n",
    "plt.show()\n",
    "# plt.bar([1, 2, 3], [12, 23, 34], label=[\"1\", \"23\", \"12\"])\n",
    "times = [time_taken_regular, time_taken_optimized, time_taken_scipy, time_taken_lbph, time_taken_neural]\n",
    "\n",
    "# labels = ['A', 'B', 'C', 'D']\n",
    "\n",
    "indices = np.arange(len(times))\n",
    "\n",
    "for i, time in enumerate(times):\n",
    "    plt.bar(indices[i], [time])\n",
    "plt.xticks(indices, labels)\n",
    "\n",
    "# for i, v in enumerate(times):\n",
    "#     plt.text(i, v + 0.1, f\"{v:.2f}\", ha='center')\n",
    "\n",
    "plt.title(\"Time training\")\n",
    "plt.xlabel('Implementation')\n",
    "plt.ylabel('Time')\n",
    "plt.tight_layout()\n",
    "plt.show()\n"
   ]
  },
  {
   "cell_type": "markdown",
   "metadata": {},
   "source": [
    "## Testing with people not from dataset"
   ]
  },
  {
   "cell_type": "code",
   "execution_count": 136,
   "metadata": {},
   "outputs": [
    {
     "name": "stdout",
     "output_type": "stream",
     "text": [
      "dict_keys([np.int32(10), np.int32(11), np.int32(12), np.int32(13), np.int32(14), np.int32(15), np.int32(16), np.int32(17), np.int32(18), np.int32(19), np.int32(20), np.int32(21), np.int32(22), np.int32(23), np.int32(24), np.int32(25), np.int32(26), np.int32(27), np.int32(28), np.int32(29), np.int32(30), np.int32(31), np.int32(32), np.int32(33), np.int32(34), np.int32(35), np.int32(36), np.int32(37), np.int32(38), np.int32(39)])\n"
     ]
    }
   ],
   "source": [
    "X_train, y_train, X_test, y_test = split_data(X, y, 0.2, 10)"
   ]
  },
  {
   "cell_type": "markdown",
   "metadata": {},
   "source": [
    "### Model using scipy PCA implementation"
   ]
  },
  {
   "cell_type": "code",
   "execution_count": 137,
   "metadata": {},
   "outputs": [
    {
     "name": "stdout",
     "output_type": "stream",
     "text": [
      "accuracy: 0.79, precision: 0.63, recall: 0.98, f1: 0.77\n"
     ]
    }
   ],
   "source": [
    "model2 = EigenfacesModelOther()\n",
    "model2.train(X_train, y_train, 0.95)\n",
    "testing_metrics_scipy = model2.test(X_test, y_test)\n",
    "print(\"accuracy: {}, precision: {}, recall: {}, f1: {}\".format(*testing_metrics_scipy))"
   ]
  },
  {
   "cell_type": "markdown",
   "metadata": {},
   "source": [
    "### Model which uses optimization for faster computation"
   ]
  },
  {
   "cell_type": "code",
   "execution_count": 138,
   "metadata": {},
   "outputs": [
    {
     "name": "stdout",
     "output_type": "stream",
     "text": [
      "accuracy: 0.79, precision: 0.65, recall: 0.89, f1: 0.75\n"
     ]
    }
   ],
   "source": [
    "model_optimized = EigenfacesModelOptimized()\n",
    "\n",
    "model_optimized.train(X_train, y_train, 0.95)\n",
    "testing_metrics_optimized = model_optimized.test(X_test, y_test)\n",
    "print(\"accuracy: {}, precision: {}, recall: {}, f1: {}\".format(*testing_metrics_optimized))"
   ]
  },
  {
   "cell_type": "markdown",
   "metadata": {},
   "source": [
    "### Our non-optimized model"
   ]
  },
  {
   "cell_type": "code",
   "execution_count": 139,
   "metadata": {},
   "outputs": [
    {
     "name": "stdout",
     "output_type": "stream",
     "text": [
      "accuracy: 0.84, precision: 0.75, recall: 0.84, f1: 0.79\n"
     ]
    }
   ],
   "source": [
    "model = EigenfacesModel()\n",
    "\n",
    "model.train(X_train, y_train, 0.95)\n",
    "testing_metrics_regular = model.test(X_test, y_test)\n",
    "print(\"accuracy: {}, precision: {}, recall: {}, f1: {}\".format(*testing_metrics_regular))"
   ]
  },
  {
   "cell_type": "markdown",
   "metadata": {},
   "source": [
    "### Testing results"
   ]
  },
  {
   "cell_type": "code",
   "execution_count": 140,
   "metadata": {},
   "outputs": [
    {
     "data": {
      "image/png": "[encoded data removed]",
      "text/plain": [
       "<Figure size 640x480 with 1 Axes>"
      ]
     },
     "metadata": {},
     "output_type": "display_data"
    }
   ],
   "source": [
    "import matplotlib.pyplot as plt\n",
    "import numpy as np\n",
    "\n",
    "n = np.array([\"accuracy\", \"precision\", \"recall\", \"f1\"])\n",
    "\n",
    "width = 0.35\n",
    "indices = np.arange(len(n))\n",
    "\n",
    "algorithm_metrics = [testing_metrics_regular, testing_metrics_optimized, testing_metrics_scipy]\n",
    "algorithm_metrics = [[metric * 100 for metric in metrics] for metrics in algorithm_metrics]\n",
    "labels = ['Our regular', 'Our optimized',\"With Scipy's PCA\"]\n",
    "num_algos = len(algorithm_metrics)\n",
    "width = 0.8 / num_algos\n",
    "\n",
    "indices = np.arange(len(n))\n",
    "\n",
    "for i, metrics in enumerate(algorithm_metrics):\n",
    "    plt.bar(indices + (i - num_algos/2) * width + width/2, metrics, width=width, label=labels[i])\n",
    "\n",
    "plt.title(\"Metrics comparison(100 photos outside from dataset)\")\n",
    "\n",
    "plt.xticks(indices, n)\n",
    "plt.ylabel('%')\n",
    "plt.xlabel(\"metric\")\n",
    "plt.ylim(bottom= max(min(min(metrics) for metrics in algorithm_metrics) - 10, 0))\n",
    "# plt.legend()\n",
    "plt.legend(loc='lower right', framealpha=0.9)\n",
    "plt.show()\n"
   ]
  }
 ],
 "metadata": {
  "kernelspec": {
   "display_name": "Python 3",
   "language": "python",
   "name": "python3"
  },
  "language_info": {
   "codemirror_mode": {
    "name": "ipython",
    "version": 3
   },
   "file_extension": ".py",
   "mimetype": "text/x-python",
   "name": "python",
   "nbconvert_exporter": "python",
   "pygments_lexer": "ipython3",
   "version": "3.12.0"
  }
 },
 "nbformat": 4,
 "nbformat_minor": 0
}
