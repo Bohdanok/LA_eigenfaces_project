{
 "cells": [
  {
   "cell_type": "markdown",
   "metadata": {},
   "source": [
    "# Implementation testing\n",
    "### Comparison of our optimized model,<br>our regular model, model which uses PCA from sklearn and LBPH model"
   ]
  },
  {
   "cell_type": "code",
   "execution_count": 17,
   "metadata": {
    "collapsed": false
   },
   "outputs": [],
   "source": [
    "import numpy as np\n",
    "\n",
    "from time import time\n",
    "import random\n",
    "import os\n",
    "\n",
    "from sklearn.model_selection import train_test_split\n",
    "from eigenfaces_model_optimised import EigenfacesModel as EigenfacesModelOptimized\n",
    "from eigenfaces_model import EigenfacesModel\n",
    "from eigenfaces_model_other import EigenfacesModel as EigenfacesModelOther\n",
    "import tensorflow as tf\n",
    "from sklearn.metrics import accuracy_score, precision_score, recall_score, f1_score\n",
    "\n",
    "\n"
   ]
  },
  {
   "cell_type": "code",
   "execution_count": 18,
   "metadata": {
    "collapsed": false
   },
   "outputs": [],
   "source": [
    "FACES_PATH, FACES_TARGET_PATH = \"pics/archive(1)/olivetti_faces.npy\", \"pics/archive(1)/olivetti_faces_target.npy\"\n",
    "\n",
    "faces = np.load(FACES_PATH)\n",
    "\n",
    "faces_target = np.load(FACES_TARGET_PATH)\n",
    "\n",
    "\n",
    "X = faces\n",
    "\n",
    "y = faces_target\n",
    "\n",
    "target_names = np.array(list({str(target) for target in y}))\n",
    "n_classes = target_names.shape[0]\n",
    "\n"
   ]
  },
  {
   "cell_type": "markdown",
   "metadata": {},
   "source": [
    "Split into a training set and a test and keep 20% of the data for testing.\n",
    "\n"
   ]
  },
  {
   "cell_type": "code",
   "execution_count": 19,
   "metadata": {},
   "outputs": [],
   "source": [
    "def split_data(faces, faces_target, test_percentage, non_trained_person_count = 0):\n",
    "    faces_dict = {}\n",
    "    for i, img in zip(faces_target, faces):\n",
    "        faces_dict[i] = faces_dict.get(i, []) + [img]\n",
    "    \n",
    "\n",
    "    faces_train = []\n",
    "    faces_train_target = []\n",
    "    faces_test = []\n",
    "    faces_test_target = []\n",
    "\n",
    "    labels_faces = list(faces_dict.items())\n",
    "    for i in range(non_trained_person_count):\n",
    "        faces_test.extend(labels_faces[i][1])\n",
    "        faces_test_target.extend([-1] * len(labels_faces[i][1]))\n",
    "        del faces_dict[i]\n",
    "    print(faces_dict.keys())\n",
    "\n",
    "    for person_id, person_faces in faces_dict.items():\n",
    "        TEST_FACES_COUNT = int(len(person_faces) * test_percentage)\n",
    "        TRAIN_FACES_COUNT = len(person_faces) - TEST_FACES_COUNT\n",
    "        faces_test.extend(person_faces[:TEST_FACES_COUNT])\n",
    "        faces_test_target.extend([person_id] * TEST_FACES_COUNT)\n",
    "        faces_train.extend(person_faces[TEST_FACES_COUNT:])\n",
    "        faces_train_target.extend([person_id] * TRAIN_FACES_COUNT)\n",
    "\n",
    "    return np.array(faces_train), np.array(faces_train_target), np.array(faces_test), np.array(faces_test_target)"
   ]
  },
  {
   "cell_type": "code",
   "execution_count": 20,
   "metadata": {
    "collapsed": false
   },
   "outputs": [
    {
     "name": "stdout",
     "output_type": "stream",
     "text": [
      "40\n",
      "y_train = array([ 4,  9, 21, 29, 25,  6, 37,  2, 39, 38, 38,  4,  7, 11, 19, 14, 21,\n",
      "       12,  3,  7, 26, 17, 13, 31, 16, 38, 29,  0, 37, 25, 11, 39, 27,  1,\n",
      "       14, 13, 18,  5,  9, 23, 28,  6, 32,  1,  9, 11, 23, 18, 34,  4,  1,\n",
      "       23, 28, 26, 14,  7,  7, 12, 10, 34, 27, 13,  3,  4,  0, 11, 15, 21,\n",
      "       31,  5, 21,  2,  5, 31, 11, 29, 28, 34, 29,  8,  0, 12, 24, 14, 24,\n",
      "       26, 11, 21,  9, 11,  5, 16,  6, 12, 17, 16, 39, 25, 35, 27, 10, 32,\n",
      "       25, 28, 20, 23,  2, 29, 23, 35,  9, 15, 37, 23, 33, 18, 29,  0, 19,\n",
      "        3, 13, 22,  6, 38,  5, 15, 22, 15,  3,  9, 37, 36, 16, 24, 24, 31,\n",
      "       10,  8,  1, 24, 12,  0, 26, 35, 11, 15,  4, 13, 12, 27, 24, 15, 10,\n",
      "       12,  7, 27,  9, 37, 18, 37, 17, 22, 25, 18,  7, 24,  4, 38, 20,  7,\n",
      "       32, 16, 16,  2, 39, 31, 35, 14, 15, 29,  3,  8, 22,  4,  5, 30,  8,\n",
      "       33, 19, 36, 20, 22, 12, 33, 30, 27,  9, 16, 15, 15, 33, 21, 28,  8,\n",
      "       17, 39, 17,  0, 36, 33, 19, 26, 26,  0, 20, 28,  6, 20, 10, 27, 14,\n",
      "       19,  4, 29, 34, 35,  4,  8,  8,  1, 37, 17, 26, 34, 28,  7, 27, 14,\n",
      "        5, 10, 39, 35,  9,  6,  0, 18, 28, 33, 23,  2, 21, 35, 25, 11, 16,\n",
      "       25, 18, 10, 30,  8, 31, 13, 36,  2, 30,  7, 31, 20,  3, 17, 25, 21,\n",
      "       20, 24, 29, 13, 37, 22, 19, 33,  3, 36,  8, 37, 38, 29, 39, 34, 36,\n",
      "       34, 18, 14, 30,  1,  5, 27, 30, 25, 32, 32], dtype=int32)\n"
     ]
    }
   ],
   "source": [
    "X_train, X_test, y_train, y_test = train_test_split(\n",
    "    X, y, test_size=0.25, random_state=43\n",
    ")\n",
    "\n",
    "print(f\"{len(np.unique(y_train))}\")\n",
    "print(f\"{y_train = }\")"
   ]
  },
  {
   "cell_type": "markdown",
   "metadata": {},
   "source": [
    "### Model using sklearn PCA implementation"
   ]
  },
  {
   "cell_type": "code",
   "execution_count": 21,
   "metadata": {},
   "outputs": [
    {
     "name": "stdout",
     "output_type": "stream",
     "text": [
      "accuracy: 0.91, precision: 0.97, recall: 0.94, f1: 0.95\n"
     ]
    }
   ],
   "source": [
    "time_started = time()\n",
    "model2 = EigenfacesModelOther()\n",
    "model2.train(X_train, y_train, 0.95)\n",
    "time_taken_sklearn = round(time() - time_started, 2)\n",
    "testing_metrics_sklearn = model2.test(X_test, y_test)\n",
    "print(\"accuracy: {}, precision: {}, recall: {}, f1: {}\".format(*testing_metrics_sklearn))"
   ]
  },
  {
   "cell_type": "markdown",
   "metadata": {},
   "source": [
    "### Model which uses optimization for faster computation"
   ]
  },
  {
   "cell_type": "code",
   "execution_count": 22,
   "metadata": {},
   "outputs": [
    {
     "name": "stdout",
     "output_type": "stream",
     "text": [
      "accuracy: 0.81, precision: 0.89, recall: 0.9, f1: 0.9\n"
     ]
    }
   ],
   "source": [
    "time_started = time()\n",
    "model_optimized = EigenfacesModelOptimized()\n",
    "\n",
    "model_optimized.train(X_train, y_train, 0.95)\n",
    "time_taken_optimized = round(time() - time_started, 2)\n",
    "testing_metrics_optimized = model_optimized.test(X_test, y_test)\n",
    "print(\"accuracy: {}, precision: {}, recall: {}, f1: {}\".format(*testing_metrics_optimized))"
   ]
  },
  {
   "cell_type": "markdown",
   "metadata": {},
   "source": [
    "### Our non-optimized model"
   ]
  },
  {
   "cell_type": "code",
   "execution_count": 23,
   "metadata": {},
   "outputs": [
    {
     "name": "stdout",
     "output_type": "stream",
     "text": [
      "accuracy: 0.84, precision: 0.94, recall: 0.88, f1: 0.91\n"
     ]
    }
   ],
   "source": [
    "time_started = time()\n",
    "model = EigenfacesModel()\n",
    "\n",
    "model.train(X_train, y_train, 0.95)\n",
    "time_taken_regular = round(time() - time_started, 2)\n",
    "testing_metrics_regular = model.test(X_test, y_test)\n",
    "print(\"accuracy: {}, precision: {}, recall: {}, f1: {}\".format(*testing_metrics_regular))"
   ]
  },
  {
   "cell_type": "markdown",
   "metadata": {},
   "source": [
    "### LBPH"
   ]
  },
  {
   "cell_type": "code",
   "execution_count": 24,
   "metadata": {},
   "outputs": [],
   "source": [
    "from cv2.face import LBPHFaceRecognizer_create\n",
    "\n",
    "time_started = time()\n",
    "recognizer = LBPHFaceRecognizer_create()\n",
    "\n",
    "recognizer.train(X_train, y_train)\n",
    "time_taken_lbph = round(time() - time_started, 2)"
   ]
  },
  {
   "cell_type": "code",
   "execution_count": 25,
   "metadata": {},
   "outputs": [],
   "source": [
    "def test(recognizer, faces_test, face_test_labels):\n",
    "    testing_results = {\"False\": {\"positive\": 0, \"negative\": 0}, \"True\": {\"positive\": 0, \"negative\": 0}}\n",
    "    min_confidence = float(\"inf\")\n",
    "    for label, face in zip(face_test_labels, faces_test):\n",
    "        pred, confidence = recognizer.predict(face)\n",
    "        pred = (-1 if confidence > 120 else pred)\n",
    "        min_confidence = min(confidence, min_confidence)\n",
    "        # print(label, pred, confidence)\n",
    "        true_prediction = label == pred\n",
    "        face_in_dataset = pred != -1\n",
    "        if face_in_dataset:\n",
    "            testing_results[str(true_prediction)][\"positive\"] += 1\n",
    "        else:\n",
    "            testing_results[str(true_prediction)][\"negative\"] += 1\n",
    "    # print(testing_results, min_confidence)\n",
    "    total_correct = testing_results[\"True\"][\"positive\"] + testing_results[\"True\"][\"negative\"]\n",
    "    total_incorrect = testing_results[\"False\"][\"positive\"] + testing_results[\"False\"][\"negative\"]\n",
    "    accuracy = total_correct / (total_correct + total_incorrect)\n",
    "    precision = testing_results[\"True\"][\"positive\"] / (testing_results[\"True\"][\"positive\"] + testing_results[\"False\"][\"positive\"])\n",
    "    recall = testing_results[\"True\"][\"positive\"] / (testing_results[\"True\"][\"positive\"] + testing_results[\"False\"][\"negative\"])\n",
    "    f1_score = 2 * precision * recall / (precision + recall)\n",
    "    metrics = accuracy, precision, recall, f1_score\n",
    "    return [round(metric, 2) for metric in metrics]"
   ]
  },
  {
   "cell_type": "code",
   "execution_count": 26,
   "metadata": {},
   "outputs": [
    {
     "name": "stdout",
     "output_type": "stream",
     "text": [
      "accuracy: 0.96, precision: 0.96, recall: 1.0, f1: 0.98\n"
     ]
    }
   ],
   "source": [
    "testing_metrics_lbph = test(recognizer, X_test, y_test)\n",
    "print(\"accuracy: {}, precision: {}, recall: {}, f1: {}\".format(*testing_metrics_lbph))\n"
   ]
  },
  {
   "cell_type": "markdown",
   "metadata": {},
   "source": [
    "### Neural network"
   ]
  },
  {
   "cell_type": "code",
   "execution_count": null,
   "metadata": {},
   "outputs": [
    {
     "name": "stdout",
     "output_type": "stream",
     "text": [
      "Epoch 1/25\n",
      "\u001b[1m17/17\u001b[0m \u001b[32m━━━━━━━━━━━━━━━━━━━━\u001b[0m\u001b[37m\u001b[0m \u001b[1m5s\u001b[0m 128ms/step - accuracy: 0.0355 - loss: 4.1801 - val_accuracy: 0.1667 - val_loss: 3.1346\n",
      "Epoch 2/25\n",
      "\u001b[1m17/17\u001b[0m \u001b[32m━━━━━━━━━━━━━━━━━━━━\u001b[0m\u001b[37m\u001b[0m \u001b[1m1s\u001b[0m 65ms/step - accuracy: 0.3376 - loss: 2.5580 - val_accuracy: 0.6000 - val_loss: 2.0339\n",
      "Epoch 3/25\n",
      "\u001b[1m17/17\u001b[0m \u001b[32m━━━━━━━━━━━━━━━━━━━━\u001b[0m\u001b[37m\u001b[0m \u001b[1m1s\u001b[0m 65ms/step - accuracy: 0.7775 - loss: 1.5012 - val_accuracy: 0.7667 - val_loss: 1.5336\n",
      "Epoch 4/25\n",
      "\u001b[1m17/17\u001b[0m \u001b[32m━━━━━━━━━━━━━━━━━━━━\u001b[0m\u001b[37m\u001b[0m \u001b[1m1s\u001b[0m 69ms/step - accuracy: 0.9312 - loss: 0.9282 - val_accuracy: 0.9000 - val_loss: 1.1047\n",
      "Epoch 5/25\n",
      "\u001b[1m17/17\u001b[0m \u001b[32m━━━━━━━━━━━━━━━━━━━━\u001b[0m\u001b[37m\u001b[0m \u001b[1m1s\u001b[0m 66ms/step - accuracy: 0.9583 - loss: 0.5949 - val_accuracy: 0.8333 - val_loss: 0.9465\n",
      "Epoch 6/25\n",
      "\u001b[1m17/17\u001b[0m \u001b[32m━━━━━━━━━━━━━━━━━━━━\u001b[0m\u001b[37m\u001b[0m \u001b[1m1s\u001b[0m 64ms/step - accuracy: 0.9791 - loss: 0.3855 - val_accuracy: 0.8667 - val_loss: 0.8329\n",
      "Epoch 7/25\n",
      "\u001b[1m17/17\u001b[0m \u001b[32m━━━━━━━━━━━━━━━━━━━━\u001b[0m\u001b[37m\u001b[0m \u001b[1m1s\u001b[0m 65ms/step - accuracy: 0.9912 - loss: 0.3046 - val_accuracy: 0.9000 - val_loss: 0.6686\n",
      "Epoch 8/25\n",
      "\u001b[1m17/17\u001b[0m \u001b[32m━━━━━━━━━━━━━━━━━━━━\u001b[0m\u001b[37m\u001b[0m \u001b[1m1s\u001b[0m 65ms/step - accuracy: 0.9842 - loss: 0.2314 - val_accuracy: 0.9000 - val_loss: 0.6418\n",
      "Epoch 9/25\n",
      "\u001b[1m17/17\u001b[0m \u001b[32m━━━━━━━━━━━━━━━━━━━━\u001b[0m\u001b[37m\u001b[0m \u001b[1m1s\u001b[0m 64ms/step - accuracy: 0.9944 - loss: 0.1707 - val_accuracy: 0.9667 - val_loss: 0.5622\n",
      "Epoch 10/25\n",
      "\u001b[1m17/17\u001b[0m \u001b[32m━━━━━━━━━━━━━━━━━━━━\u001b[0m\u001b[37m\u001b[0m \u001b[1m1s\u001b[0m 64ms/step - accuracy: 0.9969 - loss: 0.1616 - val_accuracy: 0.9000 - val_loss: 0.5149\n",
      "Epoch 11/25\n",
      "\u001b[1m17/17\u001b[0m \u001b[32m━━━━━━━━━━━━━━━━━━━━\u001b[0m\u001b[37m\u001b[0m \u001b[1m1s\u001b[0m 66ms/step - accuracy: 1.0000 - loss: 0.1246 - val_accuracy: 0.9000 - val_loss: 0.4822\n",
      "Epoch 12/25\n",
      "\u001b[1m17/17\u001b[0m \u001b[32m━━━━━━━━━━━━━━━━━━━━\u001b[0m\u001b[37m\u001b[0m \u001b[1m1s\u001b[0m 67ms/step - accuracy: 1.0000 - loss: 0.0969 - val_accuracy: 0.9333 - val_loss: 0.4592\n",
      "Epoch 13/25\n",
      "\u001b[1m17/17\u001b[0m \u001b[32m━━━━━━━━━━━━━━━━━━━━\u001b[0m\u001b[37m\u001b[0m \u001b[1m1s\u001b[0m 65ms/step - accuracy: 1.0000 - loss: 0.0860 - val_accuracy: 0.9000 - val_loss: 0.4436\n",
      "Epoch 14/25\n",
      "\u001b[1m17/17\u001b[0m \u001b[32m━━━━━━━━━━━━━━━━━━━━\u001b[0m\u001b[37m\u001b[0m \u001b[1m1s\u001b[0m 64ms/step - accuracy: 1.0000 - loss: 0.0756 - val_accuracy: 0.9000 - val_loss: 0.4347\n",
      "Epoch 15/25\n",
      "\u001b[1m17/17\u001b[0m \u001b[32m━━━━━━━━━━━━━━━━━━━━\u001b[0m\u001b[37m\u001b[0m \u001b[1m1s\u001b[0m 65ms/step - accuracy: 1.0000 - loss: 0.0658 - val_accuracy: 0.9000 - val_loss: 0.4113\n",
      "Epoch 16/25\n",
      "\u001b[1m17/17\u001b[0m \u001b[32m━━━━━━━━━━━━━━━━━━━━\u001b[0m\u001b[37m\u001b[0m \u001b[1m1s\u001b[0m 65ms/step - accuracy: 1.0000 - loss: 0.0521 - val_accuracy: 0.9000 - val_loss: 0.4102\n",
      "Epoch 17/25\n",
      "\u001b[1m17/17\u001b[0m \u001b[32m━━━━━━━━━━━━━━━━━━━━\u001b[0m\u001b[37m\u001b[0m \u001b[1m1s\u001b[0m 64ms/step - accuracy: 1.0000 - loss: 0.0488 - val_accuracy: 0.9333 - val_loss: 0.3935\n",
      "Epoch 18/25\n",
      "\u001b[1m17/17\u001b[0m \u001b[32m━━━━━━━━━━━━━━━━━━━━\u001b[0m\u001b[37m\u001b[0m \u001b[1m1s\u001b[0m 66ms/step - accuracy: 1.0000 - loss: 0.0415 - val_accuracy: 0.9333 - val_loss: 0.3880\n",
      "Epoch 19/25\n",
      "\u001b[1m17/17\u001b[0m \u001b[32m━━━━━━━━━━━━━━━━━━━━\u001b[0m\u001b[37m\u001b[0m \u001b[1m1s\u001b[0m 64ms/step - accuracy: 1.0000 - loss: 0.0423 - val_accuracy: 0.9333 - val_loss: 0.3796\n",
      "Epoch 20/25\n",
      "\u001b[1m17/17\u001b[0m \u001b[32m━━━━━━━━━━━━━━━━━━━━\u001b[0m\u001b[37m\u001b[0m \u001b[1m1s\u001b[0m 66ms/step - accuracy: 1.0000 - loss: 0.0362 - val_accuracy: 0.9333 - val_loss: 0.3669\n",
      "Epoch 21/25\n",
      "\u001b[1m17/17\u001b[0m \u001b[32m━━━━━━━━━━━━━━━━━━━━\u001b[0m\u001b[37m\u001b[0m \u001b[1m1s\u001b[0m 64ms/step - accuracy: 1.0000 - loss: 0.0341 - val_accuracy: 0.9333 - val_loss: 0.3643\n",
      "Epoch 22/25\n",
      "\u001b[1m17/17\u001b[0m \u001b[32m━━━━━━━━━━━━━━━━━━━━\u001b[0m\u001b[37m\u001b[0m \u001b[1m1s\u001b[0m 66ms/step - accuracy: 1.0000 - loss: 0.0296 - val_accuracy: 0.9333 - val_loss: 0.3609\n",
      "Epoch 23/25\n",
      "\u001b[1m17/17\u001b[0m \u001b[32m━━━━━━━━━━━━━━━━━━━━\u001b[0m\u001b[37m\u001b[0m \u001b[1m1s\u001b[0m 64ms/step - accuracy: 1.0000 - loss: 0.0272 - val_accuracy: 0.9333 - val_loss: 0.3598\n",
      "Epoch 24/25\n",
      "\u001b[1m17/17\u001b[0m \u001b[32m━━━━━━━━━━━━━━━━━━━━\u001b[0m\u001b[37m\u001b[0m \u001b[1m1s\u001b[0m 65ms/step - accuracy: 1.0000 - loss: 0.0248 - val_accuracy: 0.9333 - val_loss: 0.3475\n",
      "Epoch 25/25\n",
      "\u001b[1m17/17\u001b[0m \u001b[32m━━━━━━━━━━━━━━━━━━━━\u001b[0m\u001b[37m\u001b[0m \u001b[1m1s\u001b[0m 66ms/step - accuracy: 1.0000 - loss: 0.0236 - val_accuracy: 0.9333 - val_loss: 0.3458\n"
     ]
    }
   ],
   "source": [
    "import numpy as np\n",
    "import tensorflow as tf\n",
    "import cv2\n",
    "from sklearn.metrics import accuracy_score, precision_score, recall_score, f1_score\n",
    "\n",
    "SIZE = 96\n",
    "\n",
    "def resize_images(images, size=(SIZE, SIZE)):\n",
    "    resized = []\n",
    "    for img in images:\n",
    "        img_resized = cv2.resize(img, size)\n",
    "        img_resized = np.expand_dims(img_resized, axis=-1)  # Add channel dimension\n",
    "        resized.append(img_resized)\n",
    "    return np.array(resized)\n",
    "\n",
    "def build_model(input_shape, num_classes):\n",
    "    base_model = tf.keras.applications.MobileNetV2(\n",
    "        input_shape=(input_shape[0], input_shape[1], 3),\n",
    "        include_top=False,\n",
    "        weights='imagenet',\n",
    "        pooling='avg'\n",
    "    )\n",
    "\n",
    "    # Freeze the base\n",
    "    base_model.trainable = False\n",
    "\n",
    "    inputs = tf.keras.Input(shape=input_shape)\n",
    "    x = tf.keras.layers.Conv2D(3, (3, 3), padding='same')(inputs)  # Convert grayscale to 3 channels\n",
    "    x = base_model(x, training=False)\n",
    "    outputs = tf.keras.layers.Dense(num_classes, activation='softmax')(x)\n",
    "\n",
    "    model = tf.keras.Model(inputs, outputs)\n",
    "    return model\n",
    "\n",
    "X_train_resized, X_test_resized = resize_images(X_train),  resize_images(X_test)\n",
    "\n",
    "model = build_model(input_shape=(SIZE, SIZE, 1), num_classes=40)\n",
    "model.compile(optimizer='adam', loss='sparse_categorical_crossentropy', metrics=['accuracy'])\n",
    "time_start = time()\n",
    "callback = tf.keras.callbacks.EarlyStopping(patience=5, restore_best_weights=True)\n",
    "\n",
    "model.fit(X_train_resized, y_train, epochs=25, batch_size=16, validation_split=0.1, callbacks=[callback])\n",
    "\n",
    "time_taken_neural = round(time() - time_start, 2)\n",
    "\n"
   ]
  },
  {
   "cell_type": "code",
   "execution_count": null,
   "metadata": {},
   "outputs": [
    {
     "name": "stdout",
     "output_type": "stream",
     "text": [
      "\u001b[1m1/1\u001b[0m \u001b[32m━━━━━━━━━━━━━━━━━━━━\u001b[0m\u001b[37m\u001b[0m \u001b[1m1s\u001b[0m 783ms/step\n",
      "lprediciton = array([5])\n",
      "\u001b[1m1/1\u001b[0m \u001b[32m━━━━━━━━━━━━━━━━━━━━\u001b[0m\u001b[37m\u001b[0m \u001b[1m0s\u001b[0m 38ms/step\n",
      "lprediciton = array([27])\n",
      "\u001b[1m1/1\u001b[0m \u001b[32m━━━━━━━━━━━━━━━━━━━━\u001b[0m\u001b[37m\u001b[0m \u001b[1m0s\u001b[0m 38ms/step\n",
      "lprediciton = array([11])\n",
      "\u001b[1m1/1\u001b[0m \u001b[32m━━━━━━━━━━━━━━━━━━━━\u001b[0m\u001b[37m\u001b[0m \u001b[1m0s\u001b[0m 48ms/step\n",
      "lprediciton = array([10])\n",
      "\u001b[1m1/1\u001b[0m \u001b[32m━━━━━━━━━━━━━━━━━━━━\u001b[0m\u001b[37m\u001b[0m \u001b[1m0s\u001b[0m 37ms/step\n",
      "lprediciton = array([22])\n",
      "\u001b[1m1/1\u001b[0m \u001b[32m━━━━━━━━━━━━━━━━━━━━\u001b[0m\u001b[37m\u001b[0m \u001b[1m0s\u001b[0m 37ms/step\n",
      "lprediciton = array([1])\n",
      "\u001b[1m1/1\u001b[0m \u001b[32m━━━━━━━━━━━━━━━━━━━━\u001b[0m\u001b[37m\u001b[0m \u001b[1m0s\u001b[0m 36ms/step\n",
      "lprediciton = array([2])\n",
      "\u001b[1m1/1\u001b[0m \u001b[32m━━━━━━━━━━━━━━━━━━━━\u001b[0m\u001b[37m\u001b[0m \u001b[1m0s\u001b[0m 36ms/step\n",
      "lprediciton = array([30])\n",
      "\u001b[1m1/1\u001b[0m \u001b[32m━━━━━━━━━━━━━━━━━━━━\u001b[0m\u001b[37m\u001b[0m \u001b[1m0s\u001b[0m 34ms/step\n",
      "lprediciton = array([39])\n",
      "\u001b[1m1/1\u001b[0m \u001b[32m━━━━━━━━━━━━━━━━━━━━\u001b[0m\u001b[37m\u001b[0m \u001b[1m0s\u001b[0m 36ms/step\n",
      "lprediciton = array([13])\n",
      "\u001b[1m1/1\u001b[0m \u001b[32m━━━━━━━━━━━━━━━━━━━━\u001b[0m\u001b[37m\u001b[0m \u001b[1m0s\u001b[0m 38ms/step\n",
      "lprediciton = array([13])\n",
      "\u001b[1m1/1\u001b[0m \u001b[32m━━━━━━━━━━━━━━━━━━━━\u001b[0m\u001b[37m\u001b[0m \u001b[1m0s\u001b[0m 37ms/step\n",
      "lprediciton = array([18])\n",
      "\u001b[1m1/1\u001b[0m \u001b[32m━━━━━━━━━━━━━━━━━━━━\u001b[0m\u001b[37m\u001b[0m \u001b[1m0s\u001b[0m 39ms/step\n",
      "lprediciton = array([9])\n",
      "\u001b[1m1/1\u001b[0m \u001b[32m━━━━━━━━━━━━━━━━━━━━\u001b[0m\u001b[37m\u001b[0m \u001b[1m0s\u001b[0m 44ms/step\n",
      "lprediciton = array([8])\n",
      "\u001b[1m1/1\u001b[0m \u001b[32m━━━━━━━━━━━━━━━━━━━━\u001b[0m\u001b[37m\u001b[0m \u001b[1m0s\u001b[0m 37ms/step\n",
      "lprediciton = array([36])\n",
      "\u001b[1m1/1\u001b[0m \u001b[32m━━━━━━━━━━━━━━━━━━━━\u001b[0m\u001b[37m\u001b[0m \u001b[1m0s\u001b[0m 39ms/step\n",
      "lprediciton = array([38])\n",
      "\u001b[1m1/1\u001b[0m \u001b[32m━━━━━━━━━━━━━━━━━━━━\u001b[0m\u001b[37m\u001b[0m \u001b[1m0s\u001b[0m 36ms/step\n",
      "lprediciton = array([14])\n",
      "\u001b[1m1/1\u001b[0m \u001b[32m━━━━━━━━━━━━━━━━━━━━\u001b[0m\u001b[37m\u001b[0m \u001b[1m0s\u001b[0m 37ms/step\n",
      "lprediciton = array([35])\n",
      "\u001b[1m1/1\u001b[0m \u001b[32m━━━━━━━━━━━━━━━━━━━━\u001b[0m\u001b[37m\u001b[0m \u001b[1m0s\u001b[0m 35ms/step\n",
      "lprediciton = array([32])\n",
      "\u001b[1m1/1\u001b[0m \u001b[32m━━━━━━━━━━━━━━━━━━━━\u001b[0m\u001b[37m\u001b[0m \u001b[1m0s\u001b[0m 35ms/step\n",
      "lprediciton = array([34])\n",
      "\u001b[1m1/1\u001b[0m \u001b[32m━━━━━━━━━━━━━━━━━━━━\u001b[0m\u001b[37m\u001b[0m \u001b[1m0s\u001b[0m 35ms/step\n",
      "lprediciton = array([30])\n",
      "\u001b[1m1/1\u001b[0m \u001b[32m━━━━━━━━━━━━━━━━━━━━\u001b[0m\u001b[37m\u001b[0m \u001b[1m0s\u001b[0m 35ms/step\n",
      "lprediciton = array([6])\n",
      "\u001b[1m1/1\u001b[0m \u001b[32m━━━━━━━━━━━━━━━━━━━━\u001b[0m\u001b[37m\u001b[0m \u001b[1m0s\u001b[0m 35ms/step\n",
      "lprediciton = array([2])\n",
      "\u001b[1m1/1\u001b[0m \u001b[32m━━━━━━━━━━━━━━━━━━━━\u001b[0m\u001b[37m\u001b[0m \u001b[1m0s\u001b[0m 41ms/step\n",
      "lprediciton = array([22])\n",
      "\u001b[1m1/1\u001b[0m \u001b[32m━━━━━━━━━━━━━━━━━━━━\u001b[0m\u001b[37m\u001b[0m \u001b[1m0s\u001b[0m 38ms/step\n",
      "lprediciton = array([39])\n",
      "\u001b[1m1/1\u001b[0m \u001b[32m━━━━━━━━━━━━━━━━━━━━\u001b[0m\u001b[37m\u001b[0m \u001b[1m0s\u001b[0m 40ms/step\n",
      "lprediciton = array([13])\n",
      "\u001b[1m1/1\u001b[0m \u001b[32m━━━━━━━━━━━━━━━━━━━━\u001b[0m\u001b[37m\u001b[0m \u001b[1m0s\u001b[0m 46ms/step\n",
      "lprediciton = array([6])\n",
      "\u001b[1m1/1\u001b[0m \u001b[32m━━━━━━━━━━━━━━━━━━━━\u001b[0m\u001b[37m\u001b[0m \u001b[1m0s\u001b[0m 38ms/step\n",
      "lprediciton = array([24])\n",
      "\u001b[1m1/1\u001b[0m \u001b[32m━━━━━━━━━━━━━━━━━━━━\u001b[0m\u001b[37m\u001b[0m \u001b[1m0s\u001b[0m 37ms/step\n",
      "lprediciton = array([17])\n",
      "\u001b[1m1/1\u001b[0m \u001b[32m━━━━━━━━━━━━━━━━━━━━\u001b[0m\u001b[37m\u001b[0m \u001b[1m0s\u001b[0m 35ms/step\n",
      "lprediciton = array([17])\n",
      "\u001b[1m1/1\u001b[0m \u001b[32m━━━━━━━━━━━━━━━━━━━━\u001b[0m\u001b[37m\u001b[0m \u001b[1m0s\u001b[0m 39ms/step\n",
      "lprediciton = array([33])\n",
      "\u001b[1m1/1\u001b[0m \u001b[32m━━━━━━━━━━━━━━━━━━━━\u001b[0m\u001b[37m\u001b[0m \u001b[1m0s\u001b[0m 35ms/step\n",
      "lprediciton = array([28])\n",
      "\u001b[1m1/1\u001b[0m \u001b[32m━━━━━━━━━━━━━━━━━━━━\u001b[0m\u001b[37m\u001b[0m \u001b[1m0s\u001b[0m 35ms/step\n",
      "lprediciton = array([1])\n",
      "\u001b[1m1/1\u001b[0m \u001b[32m━━━━━━━━━━━━━━━━━━━━\u001b[0m\u001b[37m\u001b[0m \u001b[1m0s\u001b[0m 37ms/step\n",
      "lprediciton = array([23])\n",
      "\u001b[1m1/1\u001b[0m \u001b[32m━━━━━━━━━━━━━━━━━━━━\u001b[0m\u001b[37m\u001b[0m \u001b[1m0s\u001b[0m 34ms/step\n",
      "lprediciton = array([34])\n",
      "\u001b[1m1/1\u001b[0m \u001b[32m━━━━━━━━━━━━━━━━━━━━\u001b[0m\u001b[37m\u001b[0m \u001b[1m0s\u001b[0m 42ms/step\n",
      "lprediciton = array([6])\n",
      "\u001b[1m1/1\u001b[0m \u001b[32m━━━━━━━━━━━━━━━━━━━━\u001b[0m\u001b[37m\u001b[0m \u001b[1m0s\u001b[0m 38ms/step\n",
      "lprediciton = array([23])\n",
      "\u001b[1m1/1\u001b[0m \u001b[32m━━━━━━━━━━━━━━━━━━━━\u001b[0m\u001b[37m\u001b[0m \u001b[1m0s\u001b[0m 37ms/step\n",
      "lprediciton = array([5])\n",
      "\u001b[1m1/1\u001b[0m \u001b[32m━━━━━━━━━━━━━━━━━━━━\u001b[0m\u001b[37m\u001b[0m \u001b[1m0s\u001b[0m 37ms/step\n",
      "lprediciton = array([22])\n",
      "\u001b[1m1/1\u001b[0m \u001b[32m━━━━━━━━━━━━━━━━━━━━\u001b[0m\u001b[37m\u001b[0m \u001b[1m0s\u001b[0m 37ms/step\n",
      "lprediciton = array([10])\n",
      "\u001b[1m1/1\u001b[0m \u001b[32m━━━━━━━━━━━━━━━━━━━━\u001b[0m\u001b[37m\u001b[0m \u001b[1m0s\u001b[0m 36ms/step\n",
      "lprediciton = array([32])\n",
      "\u001b[1m1/1\u001b[0m \u001b[32m━━━━━━━━━━━━━━━━━━━━\u001b[0m\u001b[37m\u001b[0m \u001b[1m0s\u001b[0m 35ms/step\n",
      "lprediciton = array([38])\n",
      "\u001b[1m1/1\u001b[0m \u001b[32m━━━━━━━━━━━━━━━━━━━━\u001b[0m\u001b[37m\u001b[0m \u001b[1m0s\u001b[0m 36ms/step\n",
      "lprediciton = array([1])\n",
      "\u001b[1m1/1\u001b[0m \u001b[32m━━━━━━━━━━━━━━━━━━━━\u001b[0m\u001b[37m\u001b[0m \u001b[1m0s\u001b[0m 41ms/step\n",
      "lprediciton = array([20])\n",
      "\u001b[1m1/1\u001b[0m \u001b[32m━━━━━━━━━━━━━━━━━━━━\u001b[0m\u001b[37m\u001b[0m \u001b[1m0s\u001b[0m 35ms/step\n",
      "lprediciton = array([4])\n",
      "\u001b[1m1/1\u001b[0m \u001b[32m━━━━━━━━━━━━━━━━━━━━\u001b[0m\u001b[37m\u001b[0m \u001b[1m0s\u001b[0m 37ms/step\n",
      "lprediciton = array([25])\n",
      "\u001b[1m1/1\u001b[0m \u001b[32m━━━━━━━━━━━━━━━━━━━━\u001b[0m\u001b[37m\u001b[0m \u001b[1m0s\u001b[0m 40ms/step\n",
      "lprediciton = array([8])\n",
      "\u001b[1m1/1\u001b[0m \u001b[32m━━━━━━━━━━━━━━━━━━━━\u001b[0m\u001b[37m\u001b[0m \u001b[1m0s\u001b[0m 47ms/step\n",
      "lprediciton = array([38])\n",
      "\u001b[1m1/1\u001b[0m \u001b[32m━━━━━━━━━━━━━━━━━━━━\u001b[0m\u001b[37m\u001b[0m \u001b[1m0s\u001b[0m 41ms/step\n",
      "lprediciton = array([17])\n",
      "\u001b[1m1/1\u001b[0m \u001b[32m━━━━━━━━━━━━━━━━━━━━\u001b[0m\u001b[37m\u001b[0m \u001b[1m0s\u001b[0m 37ms/step\n",
      "lprediciton = array([26])\n",
      "\u001b[1m1/1\u001b[0m \u001b[32m━━━━━━━━━━━━━━━━━━━━\u001b[0m\u001b[37m\u001b[0m \u001b[1m0s\u001b[0m 38ms/step\n",
      "lprediciton = array([0])\n",
      "\u001b[1m1/1\u001b[0m \u001b[32m━━━━━━━━━━━━━━━━━━━━\u001b[0m\u001b[37m\u001b[0m \u001b[1m0s\u001b[0m 37ms/step\n",
      "lprediciton = array([20])\n",
      "\u001b[1m1/1\u001b[0m \u001b[32m━━━━━━━━━━━━━━━━━━━━\u001b[0m\u001b[37m\u001b[0m \u001b[1m0s\u001b[0m 46ms/step\n",
      "lprediciton = array([22])\n",
      "\u001b[1m1/1\u001b[0m \u001b[32m━━━━━━━━━━━━━━━━━━━━\u001b[0m\u001b[37m\u001b[0m \u001b[1m0s\u001b[0m 36ms/step\n",
      "lprediciton = array([32])\n",
      "\u001b[1m1/1\u001b[0m \u001b[32m━━━━━━━━━━━━━━━━━━━━\u001b[0m\u001b[37m\u001b[0m \u001b[1m0s\u001b[0m 37ms/step\n",
      "lprediciton = array([1])\n",
      "\u001b[1m1/1\u001b[0m \u001b[32m━━━━━━━━━━━━━━━━━━━━\u001b[0m\u001b[37m\u001b[0m \u001b[1m0s\u001b[0m 36ms/step\n",
      "lprediciton = array([24])\n",
      "\u001b[1m1/1\u001b[0m \u001b[32m━━━━━━━━━━━━━━━━━━━━\u001b[0m\u001b[37m\u001b[0m \u001b[1m0s\u001b[0m 34ms/step\n",
      "lprediciton = array([12])\n",
      "\u001b[1m1/1\u001b[0m \u001b[32m━━━━━━━━━━━━━━━━━━━━\u001b[0m\u001b[37m\u001b[0m \u001b[1m0s\u001b[0m 35ms/step\n",
      "lprediciton = array([16])\n",
      "\u001b[1m1/1\u001b[0m \u001b[32m━━━━━━━━━━━━━━━━━━━━\u001b[0m\u001b[37m\u001b[0m \u001b[1m0s\u001b[0m 35ms/step\n",
      "lprediciton = array([26])\n",
      "\u001b[1m1/1\u001b[0m \u001b[32m━━━━━━━━━━━━━━━━━━━━\u001b[0m\u001b[37m\u001b[0m \u001b[1m0s\u001b[0m 40ms/step\n",
      "lprediciton = array([37])\n",
      "\u001b[1m1/1\u001b[0m \u001b[32m━━━━━━━━━━━━━━━━━━━━\u001b[0m\u001b[37m\u001b[0m \u001b[1m0s\u001b[0m 40ms/step\n",
      "lprediciton = array([32])\n",
      "\u001b[1m1/1\u001b[0m \u001b[32m━━━━━━━━━━━━━━━━━━━━\u001b[0m\u001b[37m\u001b[0m \u001b[1m0s\u001b[0m 38ms/step\n",
      "lprediciton = array([2])\n",
      "\u001b[1m1/1\u001b[0m \u001b[32m━━━━━━━━━━━━━━━━━━━━\u001b[0m\u001b[37m\u001b[0m \u001b[1m0s\u001b[0m 38ms/step\n",
      "lprediciton = array([38])\n",
      "\u001b[1m1/1\u001b[0m \u001b[32m━━━━━━━━━━━━━━━━━━━━\u001b[0m\u001b[37m\u001b[0m \u001b[1m0s\u001b[0m 36ms/step\n",
      "lprediciton = array([3])\n",
      "\u001b[1m1/1\u001b[0m \u001b[32m━━━━━━━━━━━━━━━━━━━━\u001b[0m\u001b[37m\u001b[0m \u001b[1m0s\u001b[0m 39ms/step\n",
      "lprediciton = array([0])\n",
      "\u001b[1m1/1\u001b[0m \u001b[32m━━━━━━━━━━━━━━━━━━━━\u001b[0m\u001b[37m\u001b[0m \u001b[1m0s\u001b[0m 38ms/step\n",
      "lprediciton = array([32])\n",
      "\u001b[1m1/1\u001b[0m \u001b[32m━━━━━━━━━━━━━━━━━━━━\u001b[0m\u001b[37m\u001b[0m \u001b[1m0s\u001b[0m 37ms/step\n",
      "lprediciton = array([19])\n",
      "\u001b[1m1/1\u001b[0m \u001b[32m━━━━━━━━━━━━━━━━━━━━\u001b[0m\u001b[37m\u001b[0m \u001b[1m0s\u001b[0m 35ms/step\n",
      "lprediciton = array([26])\n",
      "\u001b[1m1/1\u001b[0m \u001b[32m━━━━━━━━━━━━━━━━━━━━\u001b[0m\u001b[37m\u001b[0m \u001b[1m0s\u001b[0m 36ms/step\n",
      "lprediciton = array([31])\n",
      "\u001b[1m1/1\u001b[0m \u001b[32m━━━━━━━━━━━━━━━━━━━━\u001b[0m\u001b[37m\u001b[0m \u001b[1m0s\u001b[0m 37ms/step\n",
      "lprediciton = array([3])\n",
      "\u001b[1m1/1\u001b[0m \u001b[32m━━━━━━━━━━━━━━━━━━━━\u001b[0m\u001b[37m\u001b[0m \u001b[1m0s\u001b[0m 37ms/step\n",
      "lprediciton = array([36])\n",
      "\u001b[1m1/1\u001b[0m \u001b[32m━━━━━━━━━━━━━━━━━━━━\u001b[0m\u001b[37m\u001b[0m \u001b[1m0s\u001b[0m 41ms/step\n",
      "lprediciton = array([6])\n",
      "\u001b[1m1/1\u001b[0m \u001b[32m━━━━━━━━━━━━━━━━━━━━\u001b[0m\u001b[37m\u001b[0m \u001b[1m0s\u001b[0m 40ms/step\n",
      "lprediciton = array([30])\n",
      "\u001b[1m1/1\u001b[0m \u001b[32m━━━━━━━━━━━━━━━━━━━━\u001b[0m\u001b[37m\u001b[0m \u001b[1m0s\u001b[0m 39ms/step\n",
      "lprediciton = array([3])\n",
      "\u001b[1m1/1\u001b[0m \u001b[32m━━━━━━━━━━━━━━━━━━━━\u001b[0m\u001b[37m\u001b[0m \u001b[1m0s\u001b[0m 38ms/step\n",
      "lprediciton = array([36])\n",
      "\u001b[1m1/1\u001b[0m \u001b[32m━━━━━━━━━━━━━━━━━━━━\u001b[0m\u001b[37m\u001b[0m \u001b[1m0s\u001b[0m 36ms/step\n",
      "lprediciton = array([12])\n",
      "\u001b[1m1/1\u001b[0m \u001b[32m━━━━━━━━━━━━━━━━━━━━\u001b[0m\u001b[37m\u001b[0m \u001b[1m0s\u001b[0m 38ms/step\n",
      "lprediciton = array([14])\n",
      "\u001b[1m1/1\u001b[0m \u001b[32m━━━━━━━━━━━━━━━━━━━━\u001b[0m\u001b[37m\u001b[0m \u001b[1m0s\u001b[0m 38ms/step\n",
      "lprediciton = array([36])\n",
      "\u001b[1m1/1\u001b[0m \u001b[32m━━━━━━━━━━━━━━━━━━━━\u001b[0m\u001b[37m\u001b[0m \u001b[1m0s\u001b[0m 38ms/step\n",
      "lprediciton = array([28])\n",
      "\u001b[1m1/1\u001b[0m \u001b[32m━━━━━━━━━━━━━━━━━━━━\u001b[0m\u001b[37m\u001b[0m \u001b[1m0s\u001b[0m 36ms/step\n",
      "lprediciton = array([18])\n",
      "\u001b[1m1/1\u001b[0m \u001b[32m━━━━━━━━━━━━━━━━━━━━\u001b[0m\u001b[37m\u001b[0m \u001b[1m0s\u001b[0m 38ms/step\n",
      "lprediciton = array([33])\n",
      "\u001b[1m1/1\u001b[0m \u001b[32m━━━━━━━━━━━━━━━━━━━━\u001b[0m\u001b[37m\u001b[0m \u001b[1m0s\u001b[0m 36ms/step\n",
      "lprediciton = array([17])\n",
      "\u001b[1m1/1\u001b[0m \u001b[32m━━━━━━━━━━━━━━━━━━━━\u001b[0m\u001b[37m\u001b[0m \u001b[1m0s\u001b[0m 35ms/step\n",
      "lprediciton = array([2])\n",
      "\u001b[1m1/1\u001b[0m \u001b[32m━━━━━━━━━━━━━━━━━━━━\u001b[0m\u001b[37m\u001b[0m \u001b[1m0s\u001b[0m 41ms/step\n",
      "lprediciton = array([11])\n",
      "\u001b[1m1/1\u001b[0m \u001b[32m━━━━━━━━━━━━━━━━━━━━\u001b[0m\u001b[37m\u001b[0m \u001b[1m0s\u001b[0m 41ms/step\n",
      "lprediciton = array([31])\n",
      "\u001b[1m1/1\u001b[0m \u001b[32m━━━━━━━━━━━━━━━━━━━━\u001b[0m\u001b[37m\u001b[0m \u001b[1m0s\u001b[0m 36ms/step\n",
      "lprediciton = array([17])\n",
      "\u001b[1m1/1\u001b[0m \u001b[32m━━━━━━━━━━━━━━━━━━━━\u001b[0m\u001b[37m\u001b[0m \u001b[1m0s\u001b[0m 39ms/step\n",
      "lprediciton = array([21])\n",
      "\u001b[1m1/1\u001b[0m \u001b[32m━━━━━━━━━━━━━━━━━━━━\u001b[0m\u001b[37m\u001b[0m \u001b[1m0s\u001b[0m 39ms/step\n",
      "lprediciton = array([19])\n",
      "\u001b[1m1/1\u001b[0m \u001b[32m━━━━━━━━━━━━━━━━━━━━\u001b[0m\u001b[37m\u001b[0m \u001b[1m0s\u001b[0m 37ms/step\n",
      "lprediciton = array([21])\n",
      "\u001b[1m1/1\u001b[0m \u001b[32m━━━━━━━━━━━━━━━━━━━━\u001b[0m\u001b[37m\u001b[0m \u001b[1m0s\u001b[0m 36ms/step\n",
      "lprediciton = array([33])\n",
      "\u001b[1m1/1\u001b[0m \u001b[32m━━━━━━━━━━━━━━━━━━━━\u001b[0m\u001b[37m\u001b[0m \u001b[1m0s\u001b[0m 39ms/step\n",
      "lprediciton = array([16])\n",
      "\u001b[1m1/1\u001b[0m \u001b[32m━━━━━━━━━━━━━━━━━━━━\u001b[0m\u001b[37m\u001b[0m \u001b[1m0s\u001b[0m 36ms/step\n",
      "lprediciton = array([9])\n",
      "\u001b[1m1/1\u001b[0m \u001b[32m━━━━━━━━━━━━━━━━━━━━\u001b[0m\u001b[37m\u001b[0m \u001b[1m0s\u001b[0m 35ms/step\n",
      "lprediciton = array([30])\n",
      "\u001b[1m1/1\u001b[0m \u001b[32m━━━━━━━━━━━━━━━━━━━━\u001b[0m\u001b[37m\u001b[0m \u001b[1m0s\u001b[0m 43ms/step\n",
      "lprediciton = array([31])\n",
      "\u001b[1m1/1\u001b[0m \u001b[32m━━━━━━━━━━━━━━━━━━━━\u001b[0m\u001b[37m\u001b[0m \u001b[1m0s\u001b[0m 40ms/step\n",
      "lprediciton = array([31])\n",
      "\u001b[1m1/1\u001b[0m \u001b[32m━━━━━━━━━━━━━━━━━━━━\u001b[0m\u001b[37m\u001b[0m \u001b[1m0s\u001b[0m 45ms/step\n",
      "lprediciton = array([7])\n",
      "\u001b[1m1/1\u001b[0m \u001b[32m━━━━━━━━━━━━━━━━━━━━\u001b[0m\u001b[37m\u001b[0m \u001b[1m0s\u001b[0m 46ms/step\n",
      "lprediciton = array([35])\n",
      "\u001b[1m1/1\u001b[0m \u001b[32m━━━━━━━━━━━━━━━━━━━━\u001b[0m\u001b[37m\u001b[0m \u001b[1m0s\u001b[0m 48ms/step\n",
      "lprediciton = array([20])\n",
      "\u001b[1m1/1\u001b[0m \u001b[32m━━━━━━━━━━━━━━━━━━━━\u001b[0m\u001b[37m\u001b[0m \u001b[1m0s\u001b[0m 54ms/step\n",
      "lprediciton = array([10])\n",
      "\u001b[1m1/1\u001b[0m \u001b[32m━━━━━━━━━━━━━━━━━━━━\u001b[0m\u001b[37m\u001b[0m \u001b[1m0s\u001b[0m 35ms/step\n",
      "lprediciton = array([1])\n",
      "accuracy: 0.93, precision: 0.93, recall: 1.0, f1: 0.96\n"
     ]
    }
   ],
   "source": [
    "\n",
    "def test_neural(model, faces_test, face_test_labels):\n",
    "    testing_results = {\"False\": {\"positive\": 0, \"negative\": 0}, \"True\": {\"positive\": 0, \"negative\": 0}}\n",
    "    for label, face in zip(face_test_labels, faces_test):\n",
    "        # print(f\"{(label, face) = }\")\n",
    "        lprediciton = model.predict(face[np.newaxis,...])\n",
    "        lprediciton = np.argmax(lprediciton, axis=1)\n",
    "        # print(f\"{lprediciton = }\")\n",
    "        true_prediction = label == lprediciton[0]\n",
    "        # print(label, lprediciton)\n",
    "        face_in_dataset = lprediciton != -1\n",
    "        if face_in_dataset:\n",
    "            testing_results[str(true_prediction)][\"positive\"] += 1\n",
    "        else:\n",
    "            testing_results[str(true_prediction)][\"negative\"] += 1\n",
    "    # print(testing_results)\n",
    "    total_correct = testing_results[\"True\"][\"positive\"] + testing_results[\"True\"][\"negative\"]\n",
    "    total_incorrect = testing_results[\"False\"][\"positive\"] + testing_results[\"False\"][\"negative\"]\n",
    "    accuracy = total_correct / (total_correct + total_incorrect)\n",
    "    precision = testing_results[\"True\"][\"positive\"] / (testing_results[\"True\"][\"positive\"] + testing_results[\"False\"][\"positive\"])\n",
    "    recall = testing_results[\"True\"][\"positive\"] / (testing_results[\"True\"][\"positive\"] + testing_results[\"False\"][\"negative\"])\n",
    "    f1_score = 2 * precision * recall / (precision + recall)\n",
    "    metrics = accuracy, precision, recall, f1_score\n",
    "    return [round(metric, 2) for metric in metrics]\n",
    "\n",
    "\n",
    "\n",
    "testing_metrics_neural = test_neural(model, X_test_resized, y_test)\n",
    "print(\"accuracy: {}, precision: {}, recall: {}, f1: {}\".format(*testing_metrics_neural))"
   ]
  },
  {
   "cell_type": "markdown",
   "metadata": {},
   "source": [
    "### Testing Results"
   ]
  },
  {
   "cell_type": "code",
   "execution_count": 29,
   "metadata": {},
   "outputs": [
    {
     "data": {
      "image/png": "[encoded data removed]",
      "text/plain": [
       "<Figure size 640x480 with 1 Axes>"
      ]
     },
     "metadata": {},
     "output_type": "display_data"
    },
    {
     "data": {
      "image/png": "[encoded data removed]",
      "text/plain": [
       "<Figure size 640x480 with 1 Axes>"
      ]
     },
     "metadata": {},
     "output_type": "display_data"
    }
   ],
   "source": [
    "import matplotlib.pyplot as plt\n",
    "import numpy as np\n",
    "\n",
    "n = np.array([\"accuracy\", \"precision\", \"recall\", \"f1\"])\n",
    "\n",
    "width = 0.35\n",
    "indices = np.arange(len(n))\n",
    "\n",
    "algorithm_metrics = [testing_metrics_regular, testing_metrics_optimized, testing_metrics_sklearn, testing_metrics_lbph, testing_metrics_neural]\n",
    "algorithm_metrics = [[metric * 100 for metric in metrics] for metrics in algorithm_metrics]\n",
    "labels = ['Our regular', 'Our optimized',\"With sklearn's PCA\", 'LBPH', 'MobileNetV2']\n",
    "num_algos = len(algorithm_metrics)\n",
    "width = 0.8 / num_algos\n",
    "\n",
    "indices = np.arange(len(n))\n",
    "\n",
    "for i, metrics in enumerate(algorithm_metrics):\n",
    "    plt.bar(indices + (i - num_algos/2) * width + width/2, metrics, width=width, label=labels[i])\n",
    "\n",
    "plt.title(\"Metrics comparison\")\n",
    "\n",
    "plt.xticks(indices, n)\n",
    "plt.ylabel('%')\n",
    "plt.xlabel(\"metric\")\n",
    "plt.ylim(bottom= max(min(min(metrics) for metrics in algorithm_metrics) - 10, 0), top=100)\n",
    "# plt.legend()\n",
    "plt.legend(loc='lower right', framealpha=0.9)\n",
    "plt.show()\n",
    "# plt.bar([1, 2, 3], [12, 23, 34], label=[\"1\", \"23\", \"12\"])\n",
    "times = [time_taken_regular, time_taken_optimized, time_taken_sklearn, time_taken_lbph, time_taken_neural]\n",
    "\n",
    "# labels = ['A', 'B', 'C', 'D']\n",
    "\n",
    "indices = np.arange(len(times))\n",
    "\n",
    "for i, time in enumerate(times):\n",
    "    plt.bar(indices[i], [time])\n",
    "plt.xticks(indices, labels)\n",
    "\n",
    "# for i, v in enumerate(times):\n",
    "#     plt.text(i, v + 0.1, f\"{v:.2f}\", ha='center')\n",
    "\n",
    "plt.title(\"Time training\")\n",
    "plt.xlabel('Implementation')\n",
    "plt.ylabel('Time')\n",
    "plt.tight_layout()\n",
    "plt.show()\n"
   ]
  },
  {
   "cell_type": "markdown",
   "metadata": {},
   "source": [
    "## Testing with people not from dataset"
   ]
  },
  {
   "cell_type": "code",
   "execution_count": 30,
   "metadata": {},
   "outputs": [
    {
     "name": "stdout",
     "output_type": "stream",
     "text": [
      "dict_keys([np.int32(10), np.int32(11), np.int32(12), np.int32(13), np.int32(14), np.int32(15), np.int32(16), np.int32(17), np.int32(18), np.int32(19), np.int32(20), np.int32(21), np.int32(22), np.int32(23), np.int32(24), np.int32(25), np.int32(26), np.int32(27), np.int32(28), np.int32(29), np.int32(30), np.int32(31), np.int32(32), np.int32(33), np.int32(34), np.int32(35), np.int32(36), np.int32(37), np.int32(38), np.int32(39)])\n"
     ]
    }
   ],
   "source": [
    "X_train, y_train, X_test, y_test = split_data(X, y, 0.2, 10)"
   ]
  },
  {
   "cell_type": "markdown",
   "metadata": {},
   "source": [
    "### Model using sklearn PCA implementation"
   ]
  },
  {
   "cell_type": "code",
   "execution_count": 31,
   "metadata": {},
   "outputs": [
    {
     "name": "stdout",
     "output_type": "stream",
     "text": [
      "accuracy: 0.78, precision: 0.63, recall: 0.98, f1: 0.77\n"
     ]
    }
   ],
   "source": [
    "model2 = EigenfacesModelOther()\n",
    "model2.train(X_train, y_train, 0.95)\n",
    "testing_metrics_sklearn = model2.test(X_test, y_test)\n",
    "print(\"accuracy: {}, precision: {}, recall: {}, f1: {}\".format(*testing_metrics_sklearn))"
   ]
  },
  {
   "cell_type": "markdown",
   "metadata": {},
   "source": [
    "### Model which uses optimization for faster computation"
   ]
  },
  {
   "cell_type": "code",
   "execution_count": 32,
   "metadata": {},
   "outputs": [
    {
     "name": "stdout",
     "output_type": "stream",
     "text": [
      "accuracy: 0.79, precision: 0.65, recall: 0.89, f1: 0.75\n"
     ]
    }
   ],
   "source": [
    "model_optimized = EigenfacesModelOptimized()\n",
    "\n",
    "model_optimized.train(X_train, y_train, 0.95)\n",
    "testing_metrics_optimized = model_optimized.test(X_test, y_test)\n",
    "print(\"accuracy: {}, precision: {}, recall: {}, f1: {}\".format(*testing_metrics_optimized))"
   ]
  },
  {
   "cell_type": "markdown",
   "metadata": {},
   "source": [
    "### Our non-optimized model"
   ]
  },
  {
   "cell_type": "code",
   "execution_count": 33,
   "metadata": {},
   "outputs": [
    {
     "name": "stdout",
     "output_type": "stream",
     "text": [
      "accuracy: 0.84, precision: 0.75, recall: 0.84, f1: 0.79\n"
     ]
    }
   ],
   "source": [
    "model = EigenfacesModel()\n",
    "\n",
    "model.train(X_train, y_train, 0.95)\n",
    "testing_metrics_regular = model.test(X_test, y_test)\n",
    "print(\"accuracy: {}, precision: {}, recall: {}, f1: {}\".format(*testing_metrics_regular))"
   ]
  },
  {
   "cell_type": "markdown",
   "metadata": {},
   "source": [
    "### Testing results"
   ]
  },
  {
   "cell_type": "code",
   "execution_count": 34,
   "metadata": {},
   "outputs": [
    {
     "data": {
      "image/png": "[encoded data removed]",
      "text/plain": [
       "<Figure size 640x480 with 1 Axes>"
      ]
     },
     "metadata": {},
     "output_type": "display_data"
    }
   ],
   "source": [
    "import matplotlib.pyplot as plt\n",
    "import numpy as np\n",
    "\n",
    "n = np.array([\"accuracy\", \"precision\", \"recall\", \"f1\"])\n",
    "\n",
    "width = 0.35\n",
    "indices = np.arange(len(n))\n",
    "\n",
    "algorithm_metrics = [testing_metrics_regular, testing_metrics_optimized, testing_metrics_sklearn]\n",
    "algorithm_metrics = [[metric * 100 for metric in metrics] for metrics in algorithm_metrics]\n",
    "labels = ['Our regular', 'Our optimized',\"With sklearn's PCA\"]\n",
    "num_algos = len(algorithm_metrics)\n",
    "width = 0.8 / num_algos\n",
    "\n",
    "indices = np.arange(len(n))\n",
    "\n",
    "for i, metrics in enumerate(algorithm_metrics):\n",
    "    plt.bar(indices + (i - num_algos/2) * width + width/2, metrics, width=width, label=labels[i])\n",
    "\n",
    "plt.title(\"Metrics comparison(100 photos outside from dataset)\")\n",
    "\n",
    "plt.xticks(indices, n)\n",
    "plt.ylabel('%')\n",
    "plt.xlabel(\"metric\")\n",
    "plt.ylim(bottom= max(min(min(metrics) for metrics in algorithm_metrics) - 10, 0))\n",
    "# plt.legend()\n",
    "plt.legend(loc='lower right', framealpha=0.9)\n",
    "plt.show()\n"
   ]
  }
 ],
 "metadata": {
  "kernelspec": {
   "display_name": "Python 3",
   "language": "python",
   "name": "python3"
  },
  "language_info": {
   "codemirror_mode": {
    "name": "ipython",
    "version": 3
   },
   "file_extension": ".py",
   "mimetype": "text/x-python",
   "name": "python",
   "nbconvert_exporter": "python",
   "pygments_lexer": "ipython3",
   "version": "3.12.0"
  }
 },
 "nbformat": 4,
 "nbformat_minor": 0
}
